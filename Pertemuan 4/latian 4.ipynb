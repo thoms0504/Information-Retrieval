{
 "cells": [
  {
   "cell_type": "code",
   "execution_count": 1,
   "id": "5a44f15d",
   "metadata": {},
   "outputs": [],
   "source": [
    "import os, re\n",
    "from spacy.lang.id import Indonesian\n",
    "from Sastrawi.Stemmer.StemmerFactory import StemmerFactory"
   ]
  },
  {
   "cell_type": "code",
   "execution_count": 3,
   "id": "553bbcdb",
   "metadata": {},
   "outputs": [],
   "source": [
    "#TERM WEIGHTING\n",
    "\n",
    "def termFrequencyInDoc(vocab, doc_dict):\n",
    "    tf_docs = {}\n",
    "    for doc_id in doc_dict.keys():\n",
    "        tf_docs[doc_id] = {}\n",
    "    for word in vocab:\n",
    "        for doc_id,doc in doc_dict.items():\n",
    "            tf_docs[doc_id][word] = doc.count(word)\n",
    "    return tf_docs"
   ]
  },
  {
   "cell_type": "code",
   "execution_count": 4,
   "id": "6ad72ea4",
   "metadata": {},
   "outputs": [],
   "source": [
    "from Sastrawi.Stemmer.StemmerFactory import StemmerFactory\n",
    "def stemming(text):\n",
    "    # create stemmer\n",
    "    factory = StemmerFactory()\n",
    "    stemmer = factory.create_stemmer()\n",
    "    # stemming process\n",
    "    output   = stemmer.stem(text)\n",
    "    return output"
   ]
  },
  {
   "cell_type": "code",
   "execution_count": 5,
   "id": "26ba7ffb",
   "metadata": {},
   "outputs": [
    {
     "name": "stdout",
     "output_type": "stream",
     "text": [
      "{'doc1': {'kembang': 1, 'sistem': 1, 'informasi': 1, 'jadwal': 1, 'mata': 0, 'kuliah': 0, 'information': 0, 'retrieval': 0, 'model': 0, 'analisis': 0, 'sentimen': 0, 'berita': 0, 'input': 0, 'output': 0, 'dalam': 0}, 'doc2': {'kembang': 1, 'sistem': 0, 'informasi': 0, 'jadwal': 0, 'mata': 0, 'kuliah': 0, 'information': 0, 'retrieval': 0, 'model': 1, 'analisis': 1, 'sentimen': 1, 'berita': 1, 'input': 0, 'output': 0, 'dalam': 0}, 'doc3': {'kembang': 0, 'sistem': 1, 'informasi': 0, 'jadwal': 0, 'mata': 0, 'kuliah': 0, 'information': 0, 'retrieval': 0, 'model': 0, 'analisis': 1, 'sentimen': 0, 'berita': 0, 'input': 1, 'output': 1, 'dalam': 0}}\n"
     ]
    }
   ],
   "source": [
    "#INVERTED INDEX\n",
    "# mendapatkan inverted index pada corpus di atas dengan menambahkan fungsi stemming agar menjadi kata dasar\n",
    "inverted_index = {}\n",
    "\n",
    "doc1_term = [\"pengembangan\", \"sistem\", \"informasi\", \"penjadwalan\", \"mata\", \"kuliah\", \"information\", \"retrieval\"]\n",
    "doc2_term = [\"pengembangan\", \"model\", \"analisis\", \"sentimen\",  \"berita\"]\n",
    "doc3_term = [\"pengembangan\", \"analisis\", \"sistem\", \"input\", \"output\", \"dalam\", \"information\", \"retrieval\"]\n",
    "\n",
    "corpus_term = [doc1_term, doc2_term, doc3_term]\n",
    "\n",
    " \n",
    "for i in range(len(corpus_term)):\n",
    "    for item in corpus_term[i]: \n",
    "        item = stemming(item) #funsgi stemming\n",
    "        if item not in inverted_index:\n",
    "            inverted_index[item] = []\n",
    "        if (item in inverted_index) and ((i+1) not in inverted_index[item]):\n",
    "            inverted_index[item].append(i+1)\n",
    "\n",
    "vocab = list(inverted_index.keys())\n",
    "doc_dict = {}\n",
    "\n",
    "#clean after stemming\n",
    "\n",
    "doc_dict['doc1'] = \"kembang sistem informasi jadwal\"\n",
    "doc_dict['doc2'] = \"kembang model analisis sentimen berita\"\n",
    "doc_dict['doc3'] = \"analisis sistem input output\"\n",
    "\n",
    "print(termFrequencyInDoc(vocab, doc_dict))"
   ]
  },
  {
   "cell_type": "code",
   "execution_count": 6,
   "id": "bc5c1641",
   "metadata": {},
   "outputs": [],
   "source": [
    "def tokenisasi(text):\n",
    "    tokens = text.split(\" \")\n",
    "    return tokens"
   ]
  },
  {
   "cell_type": "code",
   "execution_count": 7,
   "id": "d3c243a0",
   "metadata": {},
   "outputs": [
    {
     "name": "stdout",
     "output_type": "stream",
     "text": [
      "{'kembang': 2, 'sistem': 2, 'informasi': 1, 'jadwal': 1, 'mata': 0, 'kuliah': 0, 'information': 0, 'retrieval': 0, 'model': 1, 'analisis': 2, 'sentimen': 1, 'berita': 1, 'input': 1, 'output': 1, 'dalam': 0}\n"
     ]
    }
   ],
   "source": [
    "# Menghitung dokumen frequency dan inverse document frequency\n",
    "\n",
    "def wordDocFre(vocab, doc_dict):\n",
    "    df = {}\n",
    "    for word in vocab:\n",
    "        frq = 0\n",
    "        for doc in doc_dict.values():\n",
    "            if word in tokenisasi(doc):\n",
    "                frq = frq + 1\n",
    "        df[word] = frq\n",
    "    return df\n",
    "print(wordDocFre(vocab, doc_dict))\n",
    "    "
   ]
  },
  {
   "cell_type": "code",
   "execution_count": 8,
   "id": "305c967d",
   "metadata": {},
   "outputs": [],
   "source": [
    "import numpy as np\n",
    "\n",
    "def inverseDocFre(vocab, doc_fre,length):\n",
    "    idf = {}\n",
    "    for word in vocab:\n",
    "        idf[word] = idf[word] = 1+ np.log((length + 1)/(doc_fre[word]+1))\n",
    "    return idf"
   ]
  },
  {
   "cell_type": "code",
   "execution_count": 9,
   "id": "4a8235fa",
   "metadata": {},
   "outputs": [
    {
     "name": "stdout",
     "output_type": "stream",
     "text": [
      "{'kembang': 1.2876820724517808, 'sistem': 1.2876820724517808, 'informasi': 1.6931471805599454, 'jadwal': 1.6931471805599454, 'mata': 2.386294361119891, 'kuliah': 2.386294361119891, 'information': 2.386294361119891, 'retrieval': 2.386294361119891, 'model': 1.6931471805599454, 'analisis': 1.2876820724517808, 'sentimen': 1.6931471805599454, 'berita': 1.6931471805599454, 'input': 1.6931471805599454, 'output': 1.6931471805599454, 'dalam': 2.386294361119891}\n"
     ]
    }
   ],
   "source": [
    "print(inverseDocFre(vocab,wordDocFre(vocab, doc_dict),len(doc_dict)))"
   ]
  },
  {
   "cell_type": "code",
   "execution_count": 10,
   "id": "d93c80e9",
   "metadata": {},
   "outputs": [],
   "source": [
    "#VECTOR SPACE MODEL\n",
    "\n",
    "def tfidf(vocab, tf, idf_scr, doc_dict):\n",
    "    tf_idf_scr = {}\n",
    "    for doc_id in doc_dict.keys():\n",
    "        tf_idf_scr[doc_id] = {}\n",
    "    for word in vocab:\n",
    "        for doc_id,doc in doc_dict.items():\n",
    "            tf_idf_scr[doc_id][word] = tf[doc_id][word] * idf_scr[word]\n",
    "    return tf_idf_scr\n"
   ]
  },
  {
   "cell_type": "code",
   "execution_count": 11,
   "id": "dce40d32",
   "metadata": {},
   "outputs": [
    {
     "name": "stdout",
     "output_type": "stream",
     "text": [
      "{'doc1': {'kembang': 1.2876820724517808, 'sistem': 1.2876820724517808, 'informasi': 1.6931471805599454, 'jadwal': 1.6931471805599454, 'mata': 0.0, 'kuliah': 0.0, 'information': 0.0, 'retrieval': 0.0, 'model': 0.0, 'analisis': 0.0, 'sentimen': 0.0, 'berita': 0.0, 'input': 0.0, 'output': 0.0, 'dalam': 0.0}, 'doc2': {'kembang': 1.2876820724517808, 'sistem': 0.0, 'informasi': 0.0, 'jadwal': 0.0, 'mata': 0.0, 'kuliah': 0.0, 'information': 0.0, 'retrieval': 0.0, 'model': 1.6931471805599454, 'analisis': 1.2876820724517808, 'sentimen': 1.6931471805599454, 'berita': 1.6931471805599454, 'input': 0.0, 'output': 0.0, 'dalam': 0.0}, 'doc3': {'kembang': 0.0, 'sistem': 1.2876820724517808, 'informasi': 0.0, 'jadwal': 0.0, 'mata': 0.0, 'kuliah': 0.0, 'information': 0.0, 'retrieval': 0.0, 'model': 0.0, 'analisis': 1.2876820724517808, 'sentimen': 0.0, 'berita': 0.0, 'input': 1.6931471805599454, 'output': 1.6931471805599454, 'dalam': 0.0}}\n",
      "[[1.28768207 1.28768207 0.        ]\n",
      " [1.28768207 0.         1.28768207]\n",
      " [1.69314718 0.         0.        ]\n",
      " [1.69314718 0.         0.        ]\n",
      " [0.         0.         0.        ]\n",
      " [0.         0.         0.        ]\n",
      " [0.         0.         0.        ]\n",
      " [0.         0.         0.        ]\n",
      " [0.         1.69314718 0.        ]\n",
      " [0.         1.28768207 1.28768207]\n",
      " [0.         1.69314718 0.        ]\n",
      " [0.         1.69314718 0.        ]\n",
      " [0.         0.         1.69314718]\n",
      " [0.         0.         1.69314718]\n",
      " [0.         0.         0.        ]]\n"
     ]
    }
   ],
   "source": [
    "tf_idf = tfidf(vocab, termFrequencyInDoc(vocab, doc_dict), inverseDocFre(vocab, wordDocFre(vocab, doc_dict),len(doc_dict)), doc_dict)\n",
    "print(tf_idf)\n",
    "\n",
    "# Term - Document, Matrix\n",
    "\n",
    "TD = np.zeros((len(vocab),len(doc_dict)))\n",
    "for word in vocab:\n",
    "    for doc_id, doc in tf_idf.items():\n",
    "        ind1 = vocab.index(word)\n",
    "        ind2 = list(tf_idf.keys()).index(doc_id)\n",
    "        TD[ind1][ind2] = tf_idf[doc_id][word]\n",
    "print(TD)"
   ]
  },
  {
   "cell_type": "code",
   "execution_count": 12,
   "id": "bc3d846f",
   "metadata": {},
   "outputs": [],
   "source": [
    "#UKURAN KEMIRIPAN TEKS\n",
    "\n",
    "#edit distance\n",
    "\n",
    "def edit_distance(string1, string2):\n",
    "    if len(string1) > len(string2):\n",
    "        difference = len(string1) - len(string2)\n",
    "        string1[:difference]\n",
    "        n  = len(string2)\n",
    "    elif len(string2) > len(string1):\n",
    "        difference = len(string2) - len(string1)\n",
    "        string2[:difference]\n",
    "        n =  len(string1)\n",
    "    for i in range(n):\n",
    "        if string1[i] != string2[i]:\n",
    "            difference += 1\n",
    "    return difference\n"
   ]
  },
  {
   "cell_type": "code",
   "execution_count": 13,
   "id": "7433714c",
   "metadata": {},
   "outputs": [
    {
     "name": "stdout",
     "output_type": "stream",
     "text": [
      "30\n",
      "31\n"
     ]
    }
   ],
   "source": [
    "print(edit_distance(doc_dict['doc1'], doc_dict['doc2']))\n",
    "print(edit_distance(doc_dict['doc1'], doc_dict['doc3']))"
   ]
  },
  {
   "cell_type": "code",
   "execution_count": 14,
   "id": "9a5c4bdb",
   "metadata": {},
   "outputs": [],
   "source": [
    "#JACCARD SIMILARITY\n",
    "\n",
    "def jaccard_sim(list1, list2):\n",
    "    intersection = len(list(set(list1).intersection(list2)))\n",
    "    union = (len(list1)+len(list2)) - intersection\n",
    "    return float(intersection) / union\n"
   ]
  },
  {
   "cell_type": "code",
   "execution_count": 15,
   "id": "11d0ff3d",
   "metadata": {},
   "outputs": [
    {
     "name": "stdout",
     "output_type": "stream",
     "text": [
      "0.125\n",
      "0.14285714285714285\n"
     ]
    }
   ],
   "source": [
    "print(jaccard_sim(doc_dict['doc1'].split(\" \"),doc_dict['doc2'].split(\" \")))\n",
    "print(jaccard_sim(doc_dict['doc1'].split(\" \"),doc_dict['doc3'].split(\" \")))"
   ]
  },
  {
   "cell_type": "code",
   "execution_count": 16,
   "id": "3ba74765",
   "metadata": {},
   "outputs": [],
   "source": [
    "#EUCLIDIAN DISTANCE\n",
    "def euclidian_dist(vec1,vec2):\n",
    "    # subtracting vector\n",
    "    \n",
    "    temp = vec1 - vec2\n",
    "    \n",
    "    #doing dot product\n",
    "    #for finding\n",
    "    #sum of te squares\n",
    "    sum_sq = np.dot(temp.T,temp)\n",
    "    \n",
    "    #Doing squarefoot and\n",
    "    #printing Euclidean distance\n",
    "    return np.sqrt(sum_sq)\n",
    "\n"
   ]
  },
  {
   "cell_type": "code",
   "execution_count": 17,
   "id": "2f18668d",
   "metadata": {},
   "outputs": [
    {
     "name": "stdout",
     "output_type": "stream",
     "text": [
      "4.201188773980275\n",
      "3.844897884155026\n"
     ]
    }
   ],
   "source": [
    "print(euclidian_dist(TD[:,0], TD[:,1])) #doc1 & doc2\n",
    "print(euclidian_dist(TD[:,0], TD[:,2])) #doc1 & doc3"
   ]
  },
  {
   "cell_type": "code",
   "execution_count": 18,
   "id": "ec651727",
   "metadata": {},
   "outputs": [],
   "source": [
    "#COSINE SIMILARITY\n",
    "\n",
    "import math\n",
    "def cosine_sim(vec1, vec2):\n",
    "    vec1 = list(vec1)\n",
    "    vec2 = list(vec2)\n",
    "    dot_prod = 0\n",
    "    for i, v in enumerate (vec1):\n",
    "        dot_prod += v * vec2[i]\n",
    "    mag_1 = math.sqrt(sum([x**2 for x in vec1]))\n",
    "    mag_2 = math.sqrt(sum([x**2 for x in vec2]))\n",
    "    \n",
    "    return dot_prod / (mag_1*mag_2)\n"
   ]
  },
  {
   "cell_type": "code",
   "execution_count": 19,
   "id": "7615224e",
   "metadata": {},
   "outputs": [
    {
     "name": "stdout",
     "output_type": "stream",
     "text": [
      "0.15967058203849993\n",
      "0.1832234081332565\n"
     ]
    }
   ],
   "source": [
    "print(cosine_sim(TD[:,0], TD[:,1])) #doc1 & doc2\n",
    "print(cosine_sim(TD[:,0], TD[:,2])) #doc1 & doc3\n"
   ]
  },
  {
   "cell_type": "markdown",
   "id": "f862e730",
   "metadata": {},
   "source": [
    "## PENUGASAN"
   ]
  },
  {
   "cell_type": "code",
   "execution_count": 3,
   "id": "86094bb0",
   "metadata": {},
   "outputs": [
    {
     "name": "stdout",
     "output_type": "stream",
     "text": [
      "['wilayah kamu sudah bebas covid-19 cek 34 kab kota zona hijau baru jakarta - perintah rencana bakal terap laku batas giat masyarakat ppkm level 3 hitung 24 desember 2021 hingga 2 januari 2021 namun menteri sehat ri pasti bijak ppkm level 3 ini masih dalam tahap kaji turut direktur cegah dan kendali sakit tular langsung p2pml kemenkes ri dr siti nadia tarmizi ppkm level 3 bakal terap jika kasus covid-19 naik signifikan hal ini umum picu dengan tingkat mobilitas dan longgar protokol sehat', 'vaksin covid-19 bakal rutin tiap tahun gantung ini jelas jakarta - beri booster atau dosis tiga vaksin covid-19 di indonesia rencana bakal langsung januari 2022 lantas ada mungkin vaksinasi covid-19 bakal harus laku tiap tahun seperti vaksinasi influenza ketua satgas covid-19 ikat dokter indonesia idi prof zubairi djoerban jelas hingga kini belum ada pasti kait hal sebut turut masih ada mungkin vaksin covid-19 harus beri tiap tahun ada juga mungkin cukup booster beri sekali kemudian vaksinasi covid-19 tidak perlu lagi', 'ri mulai suntik booster di 2022 masih ampuh lawan varian delta cs jakarta - pakar aku vaksin yang sudah guna untuk dosis 1-2 memang alami turun efektivitas hadap varian baru corona seperti varian delta ingat booster atau dosis tiga vaksin covid-19 di indonesia sebut bakal mulai awal 2022 apakah jenis vaksin yang guna bakal ikut strain virus baru jawab tanya sebut ketua satgas covid-19 ikat dokter indonesia idi prof zubairi djoerban kembali singgung riset yang sudah langsung kait efektivitas vaksin covid-19 dosis 1 dan 2 ia sebut dasar riset jauh ini efektivitas vaksin covid-19 pfizer dan moderna bukti turun dalam lawan varian delta', 'alert kasus varian delta covid-19 di dki tingkat jakarta - data baru dari balitbangkes kemenkes ri per 13 november tunjuk ada tambah varian delta tambah sebut jadi di jawa barat ada 165 kasus dki jakarta 90 kasus dan sulawesi utara 86 kasus dalam satu bulan akhir balitbangkes sebut dki jakarta alami tingkat kasus varian delta yang signifikan sementara pada varian baru seperti varian alpha varian delta hingga beta banyak di indonesia asal dari dki jakarta dengan total 1 327 kasus', 'corona di as dadak naik lagi usai serang delta sempat reda jakarta - kasus covid-19 kembali naik di jumlah wilayah amerika serikat as padahal tahu covid-19 sempat catat stabil pasca serang varian delta musim panas ini ada apa hal sebut sampai oleh kepala nasihat medis gedung putih dr anthony fauci senin 15 11 2021 tahu kasus nasional turun 57 persen minggu lalu dari puncak gelombang varian delta pada musim panas namun jumlah pasien covid-19 di area barat tengah dan timur laut kini naik dadak']\n"
     ]
    }
   ],
   "source": [
    "path = \"C:/Users/asus/bahan python/berita\"\n",
    "from Sastrawi.Stemmer.StemmerFactory import StemmerFactory\n",
    "stemmer_text = StemmerFactory().create_stemmer()\n",
    "\n",
    "import spacy\n",
    "nlp_task = Indonesian()\n",
    "corpus = []\n",
    "corpus_term = []\n",
    "for file in os.listdir(path): \n",
    "    with open(os.path.join(path, file), 'r') as f:\n",
    "        clean_txt = re.sub(\"http\\S+\", ' ', f.read()) #menggantikan bentuk link (\"https\") menjadi \"\"\n",
    "        clean_txt = re.sub(\"[\\n\\n]\", ' ', clean_txt) #menggantikan double new line dengan ' '\n",
    "        clean_txt = re.sub(r'[^a-zA-Z0-9 .-]',' ',clean_txt) #menggantikan semua karakter kecuali hypen(-) dan titik (.) ke ' '\n",
    "        clean_txt = re.sub(r\"\\s+\", ' ', clean_txt) #menggatikan white space berlebih dengan ' '\n",
    "        clean_txt = stemmer_text.stem(clean_txt)\n",
    "        corpus.append(clean_txt.lower()) #menambahkan fungsi clean_text (yang telah dilakukan perlakuan) ke corpus\n",
    "\n",
    "print(corpus)"
   ]
  },
  {
   "cell_type": "code",
   "execution_count": 37,
   "id": "d2e1c87f",
   "metadata": {},
   "outputs": [
    {
     "name": "stdout",
     "output_type": "stream",
     "text": [
      "[['wilayah', 'kamu', 'sudah', 'bebas', 'covid', '-', '19', 'cek', '34', 'kab', 'kota', 'zona', 'hijau', 'baru', 'jakarta', '-', 'perintah', 'rencana', 'bakal', 'terap', 'laku', 'batas', 'giat', 'masyarakat', 'ppkm', 'level', '3', 'hitung', '24', 'desember', '2021', 'hingga', '2', 'januari', '2021', 'namun', 'menteri', 'sehat', 'ri', 'pasti', 'bijak', 'ppkm', 'level', '3', 'ini', 'masih', 'dalam', 'tahap', 'kaji', 'turut', 'direktur', 'cegah', 'dan', 'kendali', 'sakit', 'tular', 'langsung', 'p2pml', 'kemenkes', 'ri', 'dr', 'siti', 'nadia', 'tarmizi', 'ppkm', 'level', '3', 'bakal', 'terap', 'jika', 'kasus', 'covid', '-', '19', 'naik', 'signifikan', 'hal', 'ini', 'umum', 'picu', 'dengan', 'tingkat', 'mobilitas', 'dan', 'longgar', 'protokol', 'sehat'], ['vaksin', 'covid', '-', '19', 'bakal', 'rutin', 'tiap', 'tahun', 'gantung', 'ini', 'jelas', 'jakarta', '-', 'beri', 'booster', 'atau', 'dosis', 'tiga', 'vaksin', 'covid', '-', '19', 'di', 'indonesia', 'rencana', 'bakal', 'langsung', 'januari', '2022', 'lantas', 'ada', 'mungkin', 'vaksinasi', 'covid', '-', '19', 'bakal', 'harus', 'laku', 'tiap', 'tahun', 'seperti', 'vaksinasi', 'influenza', 'ketua', 'satgas', 'covid', '-', '19', 'ikat', 'dokter', 'indonesia', 'idi', 'prof', 'zubairi', 'djoerban', 'jelas', 'hingga', 'kini', 'belum', 'ada', 'pasti', 'kait', 'hal', 'sebut', 'turut', 'masih', 'ada', 'mungkin', 'vaksin', 'covid', '-', '19', 'harus', 'beri', 'tiap', 'tahun', 'ada', 'juga', 'mungkin', 'cukup', 'booster', 'beri', 'sekali', 'kemudian', 'vaksinasi', 'covid', '-', '19', 'tidak', 'perlu', 'lagi'], ['ri', 'mulai', 'suntik', 'booster', 'di', '2022', 'masih', 'ampuh', 'lawan', 'varian', 'delta', 'cs', 'jakarta', '-', 'pakar', 'aku', 'vaksin', 'yang', 'sudah', 'guna', 'untuk', 'dosis', '1', '-', '2', 'memang', 'alami', 'turun', 'efektivitas', 'hadap', 'varian', 'baru', 'corona', 'seperti', 'varian', 'delta', 'ingat', 'booster', 'atau', 'dosis', 'tiga', 'vaksin', 'covid', '-', '19', 'di', 'indonesia', 'sebut', 'bakal', 'mulai', 'awal', '2022', 'apakah', 'jenis', 'vaksin', 'yang', 'guna', 'bakal', 'ikut', 'strain', 'virus', 'baru', 'jawab', 'tanya', 'sebut', 'ketua', 'satgas', 'covid', '-', '19', 'ikat', 'dokter', 'indonesia', 'idi', 'prof', 'zubairi', 'djoerban', 'kembali', 'singgung', 'riset', 'yang', 'sudah', 'langsung', 'kait', 'efektivitas', 'vaksin', 'covid', '-', '19', 'dosis', '1', 'dan', '2', 'ia', 'sebut', 'dasar', 'riset', 'jauh', 'ini', 'efektivitas', 'vaksin', 'covid', '-', '19', 'pfizer', 'dan', 'moderna', 'bukti', 'turun', 'dalam', 'lawan', 'varian', 'delta'], ['alert', 'kasus', 'varian', 'delta', 'covid', '-', '19', 'di', 'dki', 'tingkat', 'jakarta', '-', 'data', 'baru', 'dari', 'balitbangkes', 'kemenkes', 'ri', 'per', '13', 'november', 'tunjuk', 'ada', 'tambah', 'varian', 'delta', 'tambah', 'sebut', 'jadi', 'di', 'jawa', 'barat', 'ada', '165', 'kasus', 'dki', 'jakarta', '90', 'kasus', 'dan', 'sulawesi', 'utara', '86', 'kasus', 'dalam', 'satu', 'bulan', 'akhir', 'balitbangkes', 'sebut', 'dki', 'jakarta', 'alami', 'tingkat', 'kasus', 'varian', 'delta', 'yang', 'signifikan', 'sementara', 'pada', 'varian', 'baru', 'seperti', 'varian', 'alpha', 'varian', 'delta', 'hingga', 'beta', 'banyak', 'di', 'indonesia', 'asal', 'dari', 'dki', 'jakarta', 'dengan', 'total', '1', '327', 'kasus'], ['corona', 'di', 'as', 'dadak', 'naik', 'lagi', 'usai', 'serang', 'delta', 'sempat', 'reda', 'jakarta', '-', 'kasus', 'covid', '-', '19', 'kembali', 'naik', 'di', 'jumlah', 'wilayah', 'amerika', 'serikat', 'as', 'padahal', 'tahu', 'covid', '-', '19', 'sempat', 'catat', 'stabil', 'pasca', 'serang', 'varian', 'delta', 'musim', 'panas', 'ini', 'ada', 'apa', 'hal', 'sebut', 'sampai', 'oleh', 'kepala', 'nasihat', 'medis', 'gedung', 'putih', 'dr', 'anthony', 'fauci', 'senin', '15', '11', '2021', 'tahu', 'kasus', 'nasional', 'turun', '57', 'persen', 'minggu', 'lalu', 'dari', 'puncak', 'gelombang', 'varian', 'delta', 'pada', 'musim', 'panas', 'namun', 'jumlah', 'pasien', 'covid', '-', '19', 'di', 'area', 'barat', 'tengah', 'dan', 'timur', 'laut', 'kini', 'naik', 'dadak']]\n"
     ]
    }
   ],
   "source": [
    "# 1. Tokenization\n",
    "#melakukan replacement text menjadi sepenggal-sepenggal (string dan char)\n",
    "\n",
    "corpus_term = [] #menyediakan list baru sebagai tempat hasil tokenisasi\n",
    "nlp = Indonesian() #NLP bahasa\n",
    "\n",
    "for doc in corpus:\n",
    "    spacy_id = nlp(doc)\n",
    "    token_kata = [token.text for token in nlp_task(doc)]\n",
    "    corpus_term.append(token_kata) #menambahkan fungsi token_kata ke dalam corpus_term\n",
    "    \n",
    "print(corpus_term)"
   ]
  },
  {
   "cell_type": "code",
   "execution_count": 38,
   "id": "af7ef3d9",
   "metadata": {},
   "outputs": [
    {
     "name": "stdout",
     "output_type": "stream",
     "text": [
      "[['wilayah', 'bebas', 'covid', '-', '19', 'cek', '34', 'kab', 'kota', 'zona', 'hijau', 'jakarta', '-', 'perintah', 'rencana', 'terap', 'laku', 'batas', 'giat', 'masyarakat', 'ppkm', 'level', '3', 'hitung', '24', 'desember', '2021', '2', 'januari', '2021', 'menteri', 'sehat', 'ri', 'bijak', 'ppkm', 'level', '3', 'tahap', 'kaji', 'direktur', 'cegah', 'kendali', 'sakit', 'tular', 'langsung', 'p2pml', 'kemenkes', 'ri', 'dr', 'siti', 'nadia', 'tarmizi', 'ppkm', 'level', '3', 'terap', 'covid', '-', '19', 'signifikan', 'picu', 'tingkat', 'mobilitas', 'longgar', 'protokol', 'sehat'], ['vaksin', 'covid', '-', '19', 'rutin', 'gantung', 'jakarta', '-', 'booster', 'dosis', 'vaksin', 'covid', '-', '19', 'indonesia', 'rencana', 'langsung', 'januari', '2022', 'lantas', 'vaksinasi', 'covid', '-', '19', 'laku', 'vaksinasi', 'influenza', 'ketua', 'satgas', 'covid', '-', '19', 'ikat', 'dokter', 'indonesia', 'idi', 'prof', 'zubairi', 'djoerban', 'kait', 'vaksin', 'covid', '-', '19', 'booster', 'vaksinasi', 'covid', '-', '19'], ['ri', 'suntik', 'booster', '2022', 'ampuh', 'lawan', 'varian', 'delta', 'cs', 'jakarta', '-', 'pakar', 'vaksin', 'dosis', '1', '-', '2', 'alami', 'turun', 'efektivitas', 'hadap', 'varian', 'corona', 'varian', 'delta', 'booster', 'dosis', 'vaksin', 'covid', '-', '19', 'indonesia', '2022', 'jenis', 'vaksin', 'strain', 'virus', 'ketua', 'satgas', 'covid', '-', '19', 'ikat', 'dokter', 'indonesia', 'idi', 'prof', 'zubairi', 'djoerban', 'singgung', 'riset', 'langsung', 'kait', 'efektivitas', 'vaksin', 'covid', '-', '19', 'dosis', '1', '2', 'dasar', 'riset', 'efektivitas', 'vaksin', 'covid', '-', '19', 'pfizer', 'moderna', 'bukti', 'turun', 'lawan', 'varian', 'delta'], ['alert', 'varian', 'delta', 'covid', '-', '19', 'dki', 'tingkat', 'jakarta', '-', 'data', 'balitbangkes', 'kemenkes', 'ri', '13', 'november', 'varian', 'delta', 'jawa', 'barat', '165', 'dki', 'jakarta', '90', 'sulawesi', 'utara', '86', 'balitbangkes', 'dki', 'jakarta', 'alami', 'tingkat', 'varian', 'delta', 'signifikan', 'varian', 'varian', 'alpha', 'varian', 'delta', 'beta', 'indonesia', 'dki', 'jakarta', 'total', '1', '327'], ['corona', 'as', 'dadak', 'serang', 'delta', 'reda', 'jakarta', '-', 'covid', '-', '19', 'wilayah', 'amerika', 'serikat', 'as', 'covid', '-', '19', 'catat', 'stabil', 'pasca', 'serang', 'varian', 'delta', 'musim', 'panas', 'kepala', 'nasihat', 'medis', 'gedung', 'putih', 'dr', 'anthony', 'fauci', 'senin', '15', '11', '2021', 'nasional', 'turun', '57', 'persen', 'minggu', 'puncak', 'gelombang', 'varian', 'delta', 'musim', 'panas', 'pasien', 'covid', '-', '19', 'area', 'barat', 'timur', 'laut', 'dadak']]\n"
     ]
    }
   ],
   "source": [
    "#STOPWORDS ELIMINATION\n",
    "\n",
    "nlp_task = Indonesian()\n",
    "stop_words = nlp_task.Defaults.stop_words\n",
    "corpus_term_stopwords = []\n",
    "\n",
    "for doc in corpus:\n",
    "    nlp_doc = nlp_task(doc)\n",
    "    token_kata = [token.text for token in nlp_doc]\n",
    "    token_stopwords = [w for w in token_kata if w not in stop_words] #melakukan pengecualian terhadap stop words\n",
    "    corpus_term_stopwords.append(token_stopwords)\n",
    "\n",
    "print(corpus_term_stopwords)"
   ]
  },
  {
   "cell_type": "code",
   "execution_count": 43,
   "id": "93c15d52",
   "metadata": {},
   "outputs": [],
   "source": [
    "#TERM WEIGHTING\n",
    "\n",
    "def termFrequencyInDoc(vocab, doc_dict):\n",
    "    tf_docs = {}\n",
    "    for doc_id in doc_dict.keys():\n",
    "        tf_docs[doc_id] = {}\n",
    "    for word in vocab:\n",
    "        for doc_id,doc in doc_dict.items():\n",
    "            tf_docs[doc_id][word] = doc.count(word)\n",
    "    return tf_docs\n"
   ]
  },
  {
   "cell_type": "code",
   "execution_count": 44,
   "id": "0063748c",
   "metadata": {},
   "outputs": [
    {
     "name": "stdout",
     "output_type": "stream",
     "text": [
      "{'doc1': {'wilayah': 1, 'bebas': 1, 'covid': 2, '-': 3, '19': 2, 'cek': 1, '34': 1, 'kab': 1, 'kota': 1, 'zona': 1, 'hijau': 1, 'jakarta': 1, 'perintah': 1, 'rencana': 1, 'terap': 2, 'laku': 1, 'batas': 1, 'giat': 1, 'masyarakat': 1, 'ppkm': 3, 'level': 3, '3': 4, 'hitung': 1, '24': 1, 'desember': 1, '2021': 2, '2': 7, 'januari': 1, 'menteri': 1, 'sehat': 2, 'ri': 5, 'bijak': 1, 'tahap': 1, 'kaji': 1, 'direktur': 1, 'cegah': 1, 'kendali': 1, 'sakit': 1, 'tular': 1, 'langsung': 1, 'p2pml': 1, 'kemenkes': 1, 'dr': 1, 'siti': 1, 'nadia': 1, 'tarmizi': 1, 'signifikan': 1, 'picu': 1, 'tingkat': 1, 'mobilitas': 1, 'longgar': 1, 'protokol': 1, 'vaksin': 0, 'rutin': 0, 'gantung': 0, 'booster': 0, 'dosis': 0, 'indonesia': 0, '2022': 0, 'lantas': 0, 'vaksinasi': 0, 'influenza': 0, 'ketua': 0, 'satgas': 0, 'ikat': 0, 'dokter': 0, 'idi': 0, 'prof': 0, 'zubairi': 0, 'djoerban': 0, 'kait': 0, 'suntik': 0, 'ampuh': 0, 'lawan': 0, 'varian': 0, 'delta': 0, 'cs': 0, 'pakar': 0, '1': 4, 'alami': 0, 'turun': 0, 'efektivitas': 0, 'hadap': 0, 'corona': 0, 'jenis': 0, 'strain': 0, 'virus': 0, 'singgung': 0, 'riset': 0, 'dasar': 0, 'pfizer': 0, 'moderna': 0, 'bukti': 0, 'alert': 0, 'dki': 0, 'data': 0, 'balitbangkes': 0, '13': 0, 'november': 0, 'jawa': 0, 'barat': 0, '165': 0, '90': 0, 'sulawesi': 0, 'utara': 0, '86': 0, 'alpha': 0, 'beta': 0, 'total': 0, '327': 0, 'as': 7, 'dadak': 0, 'serang': 0, 'reda': 0, 'amerika': 0, 'serikat': 0, 'catat': 0, 'stabil': 0, 'pasca': 0, 'musim': 0, 'panas': 0, 'kepala': 0, 'nasihat': 0, 'medis': 0, 'gedung': 0, 'putih': 0, 'anthony': 0, 'fauci': 0, 'senin': 0, '15': 0, '11': 0, 'nasional': 0, '57': 0, 'persen': 0, 'minggu': 0, 'puncak': 0, 'gelombang': 0, 'pasien': 0, 'area': 0, 'timur': 0, 'laut': 0}, 'doc2': {'wilayah': 0, 'bebas': 0, 'covid': 6, '-': 7, '19': 6, 'cek': 0, '34': 0, 'kab': 0, 'kota': 0, 'zona': 0, 'hijau': 0, 'jakarta': 1, 'perintah': 0, 'rencana': 1, 'terap': 0, 'laku': 1, 'batas': 0, 'giat': 0, 'masyarakat': 0, 'ppkm': 0, 'level': 0, '3': 0, 'hitung': 0, '24': 0, 'desember': 0, '2021': 0, '2': 3, 'januari': 1, 'menteri': 0, 'sehat': 0, 'ri': 5, 'bijak': 0, 'tahap': 0, 'kaji': 0, 'direktur': 0, 'cegah': 0, 'kendali': 0, 'sakit': 0, 'tular': 0, 'langsung': 1, 'p2pml': 0, 'kemenkes': 0, 'dr': 0, 'siti': 0, 'nadia': 0, 'tarmizi': 0, 'signifikan': 0, 'picu': 0, 'tingkat': 0, 'mobilitas': 0, 'longgar': 0, 'protokol': 0, 'vaksin': 6, 'rutin': 1, 'gantung': 1, 'booster': 2, 'dosis': 1, 'indonesia': 2, '2022': 1, 'lantas': 1, 'vaksinasi': 3, 'influenza': 1, 'ketua': 1, 'satgas': 1, 'ikat': 1, 'dokter': 1, 'idi': 1, 'prof': 1, 'zubairi': 1, 'djoerban': 1, 'kait': 1, 'suntik': 0, 'ampuh': 0, 'lawan': 0, 'varian': 0, 'delta': 0, 'cs': 0, 'pakar': 0, '1': 6, 'alami': 0, 'turun': 0, 'efektivitas': 0, 'hadap': 0, 'corona': 0, 'jenis': 0, 'strain': 0, 'virus': 0, 'singgung': 0, 'riset': 0, 'dasar': 0, 'pfizer': 0, 'moderna': 0, 'bukti': 0, 'alert': 0, 'dki': 0, 'data': 0, 'balitbangkes': 0, '13': 0, 'november': 0, 'jawa': 0, 'barat': 0, '165': 0, '90': 0, 'sulawesi': 0, 'utara': 0, '86': 0, 'alpha': 0, 'beta': 0, 'total': 0, '327': 0, 'as': 9, 'dadak': 0, 'serang': 0, 'reda': 0, 'amerika': 0, 'serikat': 0, 'catat': 0, 'stabil': 0, 'pasca': 0, 'musim': 0, 'panas': 0, 'kepala': 0, 'nasihat': 0, 'medis': 0, 'gedung': 0, 'putih': 0, 'anthony': 0, 'fauci': 0, 'senin': 0, '15': 0, '11': 0, 'nasional': 0, '57': 0, 'persen': 0, 'minggu': 0, 'puncak': 0, 'gelombang': 0, 'pasien': 0, 'area': 0, 'timur': 0, 'laut': 0}, 'doc3': {'wilayah': 0, 'bebas': 0, 'covid': 4, '-': 6, '19': 4, 'cek': 0, '34': 0, 'kab': 0, 'kota': 0, 'zona': 0, 'hijau': 0, 'jakarta': 1, 'perintah': 0, 'rencana': 0, 'terap': 0, 'laku': 0, 'batas': 0, 'giat': 0, 'masyarakat': 0, 'ppkm': 0, 'level': 0, '3': 0, 'hitung': 0, '24': 0, 'desember': 0, '2021': 0, '2': 8, 'januari': 0, 'menteri': 0, 'sehat': 0, 'ri': 8, 'bijak': 0, 'tahap': 0, 'kaji': 0, 'direktur': 0, 'cegah': 0, 'kendali': 0, 'sakit': 0, 'tular': 0, 'langsung': 1, 'p2pml': 0, 'kemenkes': 0, 'dr': 0, 'siti': 0, 'nadia': 0, 'tarmizi': 0, 'signifikan': 0, 'picu': 0, 'tingkat': 0, 'mobilitas': 0, 'longgar': 0, 'protokol': 0, 'vaksin': 5, 'rutin': 0, 'gantung': 0, 'booster': 2, 'dosis': 3, 'indonesia': 2, '2022': 2, 'lantas': 0, 'vaksinasi': 0, 'influenza': 0, 'ketua': 1, 'satgas': 1, 'ikat': 1, 'dokter': 1, 'idi': 1, 'prof': 1, 'zubairi': 1, 'djoerban': 1, 'kait': 1, 'suntik': 1, 'ampuh': 1, 'lawan': 2, 'varian': 4, 'delta': 3, 'cs': 1, 'pakar': 1, '1': 6, 'alami': 1, 'turun': 2, 'efektivitas': 3, 'hadap': 1, 'corona': 1, 'jenis': 1, 'strain': 1, 'virus': 1, 'singgung': 1, 'riset': 2, 'dasar': 1, 'pfizer': 1, 'moderna': 1, 'bukti': 1, 'alert': 0, 'dki': 0, 'data': 0, 'balitbangkes': 0, '13': 0, 'november': 0, 'jawa': 1, 'barat': 0, '165': 0, '90': 0, 'sulawesi': 0, 'utara': 0, '86': 0, 'alpha': 0, 'beta': 0, 'total': 0, '327': 0, 'as': 6, 'dadak': 0, 'serang': 0, 'reda': 0, 'amerika': 0, 'serikat': 0, 'catat': 0, 'stabil': 0, 'pasca': 0, 'musim': 0, 'panas': 0, 'kepala': 0, 'nasihat': 0, 'medis': 0, 'gedung': 0, 'putih': 0, 'anthony': 0, 'fauci': 0, 'senin': 0, '15': 0, '11': 0, 'nasional': 0, '57': 0, 'persen': 0, 'minggu': 0, 'puncak': 0, 'gelombang': 0, 'pasien': 0, 'area': 0, 'timur': 0, 'laut': 0}, 'doc4': {'wilayah': 0, 'bebas': 0, 'covid': 1, '-': 2, '19': 1, 'cek': 0, '34': 0, 'kab': 0, 'kota': 0, 'zona': 0, 'hijau': 0, 'jakarta': 4, 'perintah': 0, 'rencana': 0, 'terap': 0, 'laku': 0, 'batas': 0, 'giat': 0, 'masyarakat': 0, 'ppkm': 0, 'level': 0, '3': 2, 'hitung': 0, '24': 0, 'desember': 0, '2021': 0, '2': 1, 'januari': 0, 'menteri': 0, 'sehat': 0, 'ri': 9, 'bijak': 0, 'tahap': 0, 'kaji': 0, 'direktur': 0, 'cegah': 0, 'kendali': 0, 'sakit': 0, 'tular': 0, 'langsung': 0, 'p2pml': 0, 'kemenkes': 1, 'dr': 0, 'siti': 0, 'nadia': 0, 'tarmizi': 0, 'signifikan': 1, 'picu': 0, 'tingkat': 2, 'mobilitas': 0, 'longgar': 0, 'protokol': 0, 'vaksin': 0, 'rutin': 0, 'gantung': 0, 'booster': 0, 'dosis': 0, 'indonesia': 1, '2022': 0, 'lantas': 0, 'vaksinasi': 0, 'influenza': 0, 'ketua': 0, 'satgas': 0, 'ikat': 0, 'dokter': 0, 'idi': 0, 'prof': 0, 'zubairi': 0, 'djoerban': 0, 'kait': 0, 'suntik': 0, 'ampuh': 0, 'lawan': 0, 'varian': 6, 'delta': 4, 'cs': 0, 'pakar': 0, '1': 4, 'alami': 1, 'turun': 0, 'efektivitas': 0, 'hadap': 0, 'corona': 0, 'jenis': 0, 'strain': 0, 'virus': 0, 'singgung': 0, 'riset': 0, 'dasar': 0, 'pfizer': 0, 'moderna': 0, 'bukti': 0, 'alert': 1, 'dki': 4, 'data': 1, 'balitbangkes': 2, '13': 1, 'november': 1, 'jawa': 1, 'barat': 1, '165': 1, '90': 1, 'sulawesi': 1, 'utara': 1, '86': 1, 'alpha': 1, 'beta': 1, 'total': 1, '327': 1, 'as': 7, 'dadak': 0, 'serang': 0, 'reda': 0, 'amerika': 0, 'serikat': 0, 'catat': 0, 'stabil': 0, 'pasca': 0, 'musim': 0, 'panas': 0, 'kepala': 0, 'nasihat': 0, 'medis': 0, 'gedung': 0, 'putih': 0, 'anthony': 0, 'fauci': 0, 'senin': 0, '15': 0, '11': 0, 'nasional': 0, '57': 0, 'persen': 0, 'minggu': 0, 'puncak': 0, 'gelombang': 0, 'pasien': 0, 'area': 0, 'timur': 0, 'laut': 0}, 'doc5': {'wilayah': 1, 'bebas': 0, 'covid': 3, '-': 4, '19': 3, 'cek': 0, '34': 0, 'kab': 0, 'kota': 0, 'zona': 0, 'hijau': 0, 'jakarta': 1, 'perintah': 0, 'rencana': 0, 'terap': 0, 'laku': 0, 'batas': 0, 'giat': 0, 'masyarakat': 0, 'ppkm': 0, 'level': 0, '3': 0, 'hitung': 0, '24': 0, 'desember': 0, '2021': 1, '2': 2, 'januari': 0, 'menteri': 0, 'sehat': 0, 'ri': 5, 'bijak': 0, 'tahap': 0, 'kaji': 0, 'direktur': 0, 'cegah': 0, 'kendali': 0, 'sakit': 0, 'tular': 0, 'langsung': 0, 'p2pml': 0, 'kemenkes': 0, 'dr': 1, 'siti': 0, 'nadia': 0, 'tarmizi': 0, 'signifikan': 0, 'picu': 0, 'tingkat': 0, 'mobilitas': 0, 'longgar': 0, 'protokol': 0, 'vaksin': 0, 'rutin': 0, 'gantung': 0, 'booster': 0, 'dosis': 0, 'indonesia': 0, '2022': 0, 'lantas': 0, 'vaksinasi': 0, 'influenza': 0, 'ketua': 0, 'satgas': 0, 'ikat': 1, 'dokter': 0, 'idi': 0, 'prof': 0, 'zubairi': 0, 'djoerban': 0, 'kait': 0, 'suntik': 0, 'ampuh': 0, 'lawan': 0, 'varian': 2, 'delta': 3, 'cs': 0, 'pakar': 0, '1': 7, 'alami': 0, 'turun': 1, 'efektivitas': 0, 'hadap': 0, 'corona': 1, 'jenis': 0, 'strain': 0, 'virus': 0, 'singgung': 0, 'riset': 0, 'dasar': 0, 'pfizer': 0, 'moderna': 0, 'bukti': 0, 'alert': 0, 'dki': 0, 'data': 0, 'balitbangkes': 0, '13': 0, 'november': 0, 'jawa': 0, 'barat': 1, '165': 0, '90': 0, 'sulawesi': 0, 'utara': 0, '86': 0, 'alpha': 0, 'beta': 0, 'total': 0, '327': 0, 'as': 10, 'dadak': 2, 'serang': 2, 'reda': 1, 'amerika': 1, 'serikat': 1, 'catat': 1, 'stabil': 1, 'pasca': 1, 'musim': 2, 'panas': 2, 'kepala': 1, 'nasihat': 1, 'medis': 1, 'gedung': 1, 'putih': 1, 'anthony': 1, 'fauci': 1, 'senin': 1, '15': 1, '11': 1, 'nasional': 1, '57': 1, 'persen': 1, 'minggu': 1, 'puncak': 1, 'gelombang': 1, 'pasien': 1, 'area': 1, 'timur': 1, 'laut': 1}}\n"
     ]
    }
   ],
   "source": [
    "def stemming_index(corpus) :\n",
    "    # Stemming\n",
    "    # import StemmerFactory class\n",
    "    from Sastrawi.Stemmer.StemmerFactory import StemmerFactory\n",
    "\n",
    "    # create stemmer\n",
    "    factory = StemmerFactory()\n",
    "    stemmer = factory.create_stemmer()\n",
    "\n",
    "    # stemming process\n",
    "    output   = stemmer.stem(corpus)\n",
    "    #for i in corpus :\n",
    "    #    for word in i :\n",
    "    #        output.append(stemmer.stem(word))\n",
    "        \n",
    "    return output\n",
    "\n",
    "\n",
    "inverted_index = {}\n",
    " \n",
    "for i in range(len(corpus_term_stopwords)):\n",
    "    for item in corpus_term_stopwords[i]: \n",
    "        item = stemming_index(item)\n",
    "        if item not in inverted_index:\n",
    "            inverted_index[item] = []\n",
    "        if (item in inverted_index) and ((i+1) not in inverted_index[item]):\n",
    "            inverted_index[item].append(i+1)\n",
    "\n",
    "vocab = list(inverted_index.keys())\n",
    "doc_dict = {}\n",
    "\n",
    "#clean after stemming\n",
    "\n",
    "doc_dict['doc1'] = \"wilayah kamu sudah bebas covid-19 cek 34 kab kota zona hijau baru jakarta - perintah rencana bakal terap laku batas giat masyarakat ppkm level 3 hitung 24 desember 2021 hingga 2 januari 2021 namun menteri sehat ri pasti bijak ppkm level 3 ini masih dalam tahap kaji turut direktur cegah dan kendali sakit tular langsung p2pml kemenkes ri dr siti nadia tarmizi ppkm level 3 bakal terap jika kasus covid-19 naik signifikan hal ini umum picu dengan tingkat mobilitas dan longgar protokol sehat\"\n",
    "doc_dict['doc2'] = \"vaksin covid-19 bakal rutin tiap tahun gantung ini jelas jakarta - beri booster atau dosis tiga vaksin covid-19 di indonesia rencana bakal langsung januari 2022 lantas ada mungkin vaksinasi covid-19 bakal harus laku tiap tahun seperti vaksinasi influenza ketua satgas covid-19 ikat dokter indonesia idi prof zubairi djoerban jelas hingga kini belum ada pasti kait hal sebut turut masih ada mungkin vaksin covid-19 harus beri tiap tahun ada juga mungkin cukup booster beri sekali kemudian vaksinasi covid-19 tidak perlu lagi\"\n",
    "doc_dict['doc3'] = \"ri mulai suntik booster di 2022 masih ampuh lawan varian delta cs jakarta - pakar aku vaksin yang sudah guna untuk dosis 1-2 memang alami turun efektivitas hadap varian baru corona seperti varian delta ingat booster atau dosis tiga vaksin covid-19 di indonesia sebut bakal mulai awal 2022 apakah jenis vaksin yang guna bakal ikut strain virus baru jawab tanya sebut ketua satgas covid-19 ikat dokter indonesia idi prof zubairi djoerban kembali singgung riset yang sudah langsung kait efektivitas vaksin covid-19 dosis 1 dan 2 ia sebut dasar riset jauh ini efektivitas vaksin covid-19 pfizer dan moderna bukti turun dalam lawan varian delta\"\n",
    "doc_dict['doc4'] = \"alert kasus varian delta covid-19 di dki tingkat jakarta - data baru dari balitbangkes kemenkes ri per 13 november tunjuk ada tambah varian delta tambah sebut jadi di jawa barat ada 165 kasus dki jakarta 90 kasus dan sulawesi utara 86 kasus dalam satu bulan akhir balitbangkes sebut dki jakarta alami tingkat kasus varian delta yang signifikan sementara pada varian baru seperti varian alpha varian delta hingga beta banyak di indonesia asal dari dki jakarta dengan total 1 327 kasus\"\n",
    "doc_dict['doc5'] = \"corona di as dadak naik lagi usai serang delta sempat reda jakarta - kasus covid-19 kembali naik di jumlah wilayah amerika serikat as padahal tahu covid-19 sempat catat stabil pasca serang varian delta musim panas ini ada apa hal sebut sampai oleh kepala nasihat medis gedung putih dr anthony fauci senin 15 11 2021 tahu kasus nasional turun 57 persen minggu lalu dari puncak gelombang varian delta pada musim panas namun jumlah pasien covid-19 di area barat tengah dan timur laut kini naik dadak\"\n",
    "\n",
    "\n",
    "print(termFrequencyInDoc(vocab, doc_dict))\n",
    "\n"
   ]
  },
  {
   "cell_type": "code",
   "execution_count": 45,
   "id": "14745b1c",
   "metadata": {},
   "outputs": [],
   "source": [
    "def tokenisasi(text):\n",
    "    tokens = text.split(\" \")\n",
    "    return tokens"
   ]
  },
  {
   "cell_type": "code",
   "execution_count": 46,
   "id": "28d2e3b6",
   "metadata": {},
   "outputs": [
    {
     "name": "stdout",
     "output_type": "stream",
     "text": [
      "{'wilayah': 2, 'bebas': 1, 'covid': 0, '-': 5, '19': 0, 'cek': 1, '34': 1, 'kab': 1, 'kota': 1, 'zona': 1, 'hijau': 1, 'jakarta': 5, 'perintah': 1, 'rencana': 2, 'terap': 1, 'laku': 2, 'batas': 1, 'giat': 1, 'masyarakat': 1, 'ppkm': 1, 'level': 1, '3': 1, 'hitung': 1, '24': 1, 'desember': 1, '2021': 2, '2': 2, 'januari': 2, 'menteri': 1, 'sehat': 1, 'ri': 3, 'bijak': 1, 'tahap': 1, 'kaji': 1, 'direktur': 1, 'cegah': 1, 'kendali': 1, 'sakit': 1, 'tular': 1, 'langsung': 3, 'p2pml': 1, 'kemenkes': 2, 'dr': 2, 'siti': 1, 'nadia': 1, 'tarmizi': 1, 'signifikan': 2, 'picu': 1, 'tingkat': 2, 'mobilitas': 1, 'longgar': 1, 'protokol': 1, 'vaksin': 2, 'rutin': 1, 'gantung': 1, 'booster': 2, 'dosis': 2, 'indonesia': 3, '2022': 2, 'lantas': 1, 'vaksinasi': 1, 'influenza': 1, 'ketua': 2, 'satgas': 2, 'ikat': 2, 'dokter': 2, 'idi': 2, 'prof': 2, 'zubairi': 2, 'djoerban': 2, 'kait': 2, 'suntik': 1, 'ampuh': 1, 'lawan': 1, 'varian': 3, 'delta': 3, 'cs': 1, 'pakar': 1, '1': 2, 'alami': 2, 'turun': 2, 'efektivitas': 1, 'hadap': 1, 'corona': 2, 'jenis': 1, 'strain': 1, 'virus': 1, 'singgung': 1, 'riset': 1, 'dasar': 1, 'pfizer': 1, 'moderna': 1, 'bukti': 1, 'alert': 1, 'dki': 1, 'data': 1, 'balitbangkes': 1, '13': 1, 'november': 1, 'jawa': 1, 'barat': 2, '165': 1, '90': 1, 'sulawesi': 1, 'utara': 1, '86': 1, 'alpha': 1, 'beta': 1, 'total': 1, '327': 1, 'as': 1, 'dadak': 1, 'serang': 1, 'reda': 1, 'amerika': 1, 'serikat': 1, 'catat': 1, 'stabil': 1, 'pasca': 1, 'musim': 1, 'panas': 1, 'kepala': 1, 'nasihat': 1, 'medis': 1, 'gedung': 1, 'putih': 1, 'anthony': 1, 'fauci': 1, 'senin': 1, '15': 1, '11': 1, 'nasional': 1, '57': 1, 'persen': 1, 'minggu': 1, 'puncak': 1, 'gelombang': 1, 'pasien': 1, 'area': 1, 'timur': 1, 'laut': 1}\n"
     ]
    }
   ],
   "source": [
    "def wordDocFre(vocab, doc_dict):\n",
    "    df = {}\n",
    "    for word in vocab:\n",
    "        frq = 0\n",
    "        for doc in doc_dict.values():\n",
    "            if word in tokenisasi(doc):\n",
    "                frq = frq + 1\n",
    "        df[word] = frq\n",
    "    return df\n",
    "print(wordDocFre(vocab, doc_dict))"
   ]
  },
  {
   "cell_type": "code",
   "execution_count": 50,
   "id": "99c7fc0d",
   "metadata": {},
   "outputs": [],
   "source": [
    "import numpy as np\n",
    "\n",
    "def inverseDocFre(vocab, doc_fre,length):\n",
    "    idf = {}\n",
    "    for word in vocab:\n",
    "        idf[word] = idf[word] = 1+ np.log((length + 1)/(doc_fre[word]+1))\n",
    "    return idf\n"
   ]
  },
  {
   "cell_type": "code",
   "execution_count": 51,
   "id": "69073991",
   "metadata": {},
   "outputs": [
    {
     "name": "stdout",
     "output_type": "stream",
     "text": [
      "{'wilayah': 1.6931471805599454, 'bebas': 2.09861228866811, 'covid': 2.791759469228055, '-': 1.0, '19': 2.791759469228055, 'cek': 2.09861228866811, '34': 2.09861228866811, 'kab': 2.09861228866811, 'kota': 2.09861228866811, 'zona': 2.09861228866811, 'hijau': 2.09861228866811, 'jakarta': 1.0, 'perintah': 2.09861228866811, 'rencana': 1.6931471805599454, 'terap': 2.09861228866811, 'laku': 1.6931471805599454, 'batas': 2.09861228866811, 'giat': 2.09861228866811, 'masyarakat': 2.09861228866811, 'ppkm': 2.09861228866811, 'level': 2.09861228866811, '3': 2.09861228866811, 'hitung': 2.09861228866811, '24': 2.09861228866811, 'desember': 2.09861228866811, '2021': 1.6931471805599454, '2': 1.6931471805599454, 'januari': 1.6931471805599454, 'menteri': 2.09861228866811, 'sehat': 2.09861228866811, 'ri': 1.4054651081081644, 'bijak': 2.09861228866811, 'tahap': 2.09861228866811, 'kaji': 2.09861228866811, 'direktur': 2.09861228866811, 'cegah': 2.09861228866811, 'kendali': 2.09861228866811, 'sakit': 2.09861228866811, 'tular': 2.09861228866811, 'langsung': 1.4054651081081644, 'p2pml': 2.09861228866811, 'kemenkes': 1.6931471805599454, 'dr': 1.6931471805599454, 'siti': 2.09861228866811, 'nadia': 2.09861228866811, 'tarmizi': 2.09861228866811, 'signifikan': 1.6931471805599454, 'picu': 2.09861228866811, 'tingkat': 1.6931471805599454, 'mobilitas': 2.09861228866811, 'longgar': 2.09861228866811, 'protokol': 2.09861228866811, 'vaksin': 1.6931471805599454, 'rutin': 2.09861228866811, 'gantung': 2.09861228866811, 'booster': 1.6931471805599454, 'dosis': 1.6931471805599454, 'indonesia': 1.4054651081081644, '2022': 1.6931471805599454, 'lantas': 2.09861228866811, 'vaksinasi': 2.09861228866811, 'influenza': 2.09861228866811, 'ketua': 1.6931471805599454, 'satgas': 1.6931471805599454, 'ikat': 1.6931471805599454, 'dokter': 1.6931471805599454, 'idi': 1.6931471805599454, 'prof': 1.6931471805599454, 'zubairi': 1.6931471805599454, 'djoerban': 1.6931471805599454, 'kait': 1.6931471805599454, 'suntik': 2.09861228866811, 'ampuh': 2.09861228866811, 'lawan': 2.09861228866811, 'varian': 1.4054651081081644, 'delta': 1.4054651081081644, 'cs': 2.09861228866811, 'pakar': 2.09861228866811, '1': 1.6931471805599454, 'alami': 1.6931471805599454, 'turun': 1.6931471805599454, 'efektivitas': 2.09861228866811, 'hadap': 2.09861228866811, 'corona': 1.6931471805599454, 'jenis': 2.09861228866811, 'strain': 2.09861228866811, 'virus': 2.09861228866811, 'singgung': 2.09861228866811, 'riset': 2.09861228866811, 'dasar': 2.09861228866811, 'pfizer': 2.09861228866811, 'moderna': 2.09861228866811, 'bukti': 2.09861228866811, 'alert': 2.09861228866811, 'dki': 2.09861228866811, 'data': 2.09861228866811, 'balitbangkes': 2.09861228866811, '13': 2.09861228866811, 'november': 2.09861228866811, 'jawa': 2.09861228866811, 'barat': 1.6931471805599454, '165': 2.09861228866811, '90': 2.09861228866811, 'sulawesi': 2.09861228866811, 'utara': 2.09861228866811, '86': 2.09861228866811, 'alpha': 2.09861228866811, 'beta': 2.09861228866811, 'total': 2.09861228866811, '327': 2.09861228866811, 'as': 2.09861228866811, 'dadak': 2.09861228866811, 'serang': 2.09861228866811, 'reda': 2.09861228866811, 'amerika': 2.09861228866811, 'serikat': 2.09861228866811, 'catat': 2.09861228866811, 'stabil': 2.09861228866811, 'pasca': 2.09861228866811, 'musim': 2.09861228866811, 'panas': 2.09861228866811, 'kepala': 2.09861228866811, 'nasihat': 2.09861228866811, 'medis': 2.09861228866811, 'gedung': 2.09861228866811, 'putih': 2.09861228866811, 'anthony': 2.09861228866811, 'fauci': 2.09861228866811, 'senin': 2.09861228866811, '15': 2.09861228866811, '11': 2.09861228866811, 'nasional': 2.09861228866811, '57': 2.09861228866811, 'persen': 2.09861228866811, 'minggu': 2.09861228866811, 'puncak': 2.09861228866811, 'gelombang': 2.09861228866811, 'pasien': 2.09861228866811, 'area': 2.09861228866811, 'timur': 2.09861228866811, 'laut': 2.09861228866811}\n"
     ]
    }
   ],
   "source": [
    "print(inverseDocFre(vocab,wordDocFre(vocab, doc_dict),len(doc_dict)))"
   ]
  },
  {
   "cell_type": "code",
   "execution_count": 52,
   "id": "26e7078e",
   "metadata": {},
   "outputs": [],
   "source": [
    "#VECTOR SPACE MODEL\n",
    "\n",
    "def tfidf(vocab, tf, idf_scr, doc_dict):\n",
    "    tf_idf_scr = {}\n",
    "    for doc_id in doc_dict.keys():\n",
    "        tf_idf_scr[doc_id] = {}\n",
    "    for word in vocab:\n",
    "        for doc_id,doc in doc_dict.items():\n",
    "            tf_idf_scr[doc_id][word] = tf[doc_id][word] * idf_scr[word]\n",
    "    return tf_idf_scr"
   ]
  },
  {
   "cell_type": "code",
   "execution_count": 53,
   "id": "62a39387",
   "metadata": {},
   "outputs": [
    {
     "name": "stdout",
     "output_type": "stream",
     "text": [
      "{'doc1': {'wilayah': 1.6931471805599454, 'bebas': 2.09861228866811, 'covid': 5.58351893845611, '-': 3.0, '19': 5.58351893845611, 'cek': 2.09861228866811, '34': 2.09861228866811, 'kab': 2.09861228866811, 'kota': 2.09861228866811, 'zona': 2.09861228866811, 'hijau': 2.09861228866811, 'jakarta': 1.0, 'perintah': 2.09861228866811, 'rencana': 1.6931471805599454, 'terap': 4.19722457733622, 'laku': 1.6931471805599454, 'batas': 2.09861228866811, 'giat': 2.09861228866811, 'masyarakat': 2.09861228866811, 'ppkm': 6.29583686600433, 'level': 6.29583686600433, '3': 8.39444915467244, 'hitung': 2.09861228866811, '24': 2.09861228866811, 'desember': 2.09861228866811, '2021': 3.386294361119891, '2': 11.852030263919618, 'januari': 1.6931471805599454, 'menteri': 2.09861228866811, 'sehat': 4.19722457733622, 'ri': 7.027325540540822, 'bijak': 2.09861228866811, 'tahap': 2.09861228866811, 'kaji': 2.09861228866811, 'direktur': 2.09861228866811, 'cegah': 2.09861228866811, 'kendali': 2.09861228866811, 'sakit': 2.09861228866811, 'tular': 2.09861228866811, 'langsung': 1.4054651081081644, 'p2pml': 2.09861228866811, 'kemenkes': 1.6931471805599454, 'dr': 1.6931471805599454, 'siti': 2.09861228866811, 'nadia': 2.09861228866811, 'tarmizi': 2.09861228866811, 'signifikan': 1.6931471805599454, 'picu': 2.09861228866811, 'tingkat': 1.6931471805599454, 'mobilitas': 2.09861228866811, 'longgar': 2.09861228866811, 'protokol': 2.09861228866811, 'vaksin': 0.0, 'rutin': 0.0, 'gantung': 0.0, 'booster': 0.0, 'dosis': 0.0, 'indonesia': 0.0, '2022': 0.0, 'lantas': 0.0, 'vaksinasi': 0.0, 'influenza': 0.0, 'ketua': 0.0, 'satgas': 0.0, 'ikat': 0.0, 'dokter': 0.0, 'idi': 0.0, 'prof': 0.0, 'zubairi': 0.0, 'djoerban': 0.0, 'kait': 0.0, 'suntik': 0.0, 'ampuh': 0.0, 'lawan': 0.0, 'varian': 0.0, 'delta': 0.0, 'cs': 0.0, 'pakar': 0.0, '1': 6.772588722239782, 'alami': 0.0, 'turun': 0.0, 'efektivitas': 0.0, 'hadap': 0.0, 'corona': 0.0, 'jenis': 0.0, 'strain': 0.0, 'virus': 0.0, 'singgung': 0.0, 'riset': 0.0, 'dasar': 0.0, 'pfizer': 0.0, 'moderna': 0.0, 'bukti': 0.0, 'alert': 0.0, 'dki': 0.0, 'data': 0.0, 'balitbangkes': 0.0, '13': 0.0, 'november': 0.0, 'jawa': 0.0, 'barat': 0.0, '165': 0.0, '90': 0.0, 'sulawesi': 0.0, 'utara': 0.0, '86': 0.0, 'alpha': 0.0, 'beta': 0.0, 'total': 0.0, '327': 0.0, 'as': 14.69028602067677, 'dadak': 0.0, 'serang': 0.0, 'reda': 0.0, 'amerika': 0.0, 'serikat': 0.0, 'catat': 0.0, 'stabil': 0.0, 'pasca': 0.0, 'musim': 0.0, 'panas': 0.0, 'kepala': 0.0, 'nasihat': 0.0, 'medis': 0.0, 'gedung': 0.0, 'putih': 0.0, 'anthony': 0.0, 'fauci': 0.0, 'senin': 0.0, '15': 0.0, '11': 0.0, 'nasional': 0.0, '57': 0.0, 'persen': 0.0, 'minggu': 0.0, 'puncak': 0.0, 'gelombang': 0.0, 'pasien': 0.0, 'area': 0.0, 'timur': 0.0, 'laut': 0.0}, 'doc2': {'wilayah': 0.0, 'bebas': 0.0, 'covid': 16.75055681536833, '-': 7.0, '19': 16.75055681536833, 'cek': 0.0, '34': 0.0, 'kab': 0.0, 'kota': 0.0, 'zona': 0.0, 'hijau': 0.0, 'jakarta': 1.0, 'perintah': 0.0, 'rencana': 1.6931471805599454, 'terap': 0.0, 'laku': 1.6931471805599454, 'batas': 0.0, 'giat': 0.0, 'masyarakat': 0.0, 'ppkm': 0.0, 'level': 0.0, '3': 0.0, 'hitung': 0.0, '24': 0.0, 'desember': 0.0, '2021': 0.0, '2': 5.079441541679836, 'januari': 1.6931471805599454, 'menteri': 0.0, 'sehat': 0.0, 'ri': 7.027325540540822, 'bijak': 0.0, 'tahap': 0.0, 'kaji': 0.0, 'direktur': 0.0, 'cegah': 0.0, 'kendali': 0.0, 'sakit': 0.0, 'tular': 0.0, 'langsung': 1.4054651081081644, 'p2pml': 0.0, 'kemenkes': 0.0, 'dr': 0.0, 'siti': 0.0, 'nadia': 0.0, 'tarmizi': 0.0, 'signifikan': 0.0, 'picu': 0.0, 'tingkat': 0.0, 'mobilitas': 0.0, 'longgar': 0.0, 'protokol': 0.0, 'vaksin': 10.158883083359672, 'rutin': 2.09861228866811, 'gantung': 2.09861228866811, 'booster': 3.386294361119891, 'dosis': 1.6931471805599454, 'indonesia': 2.8109302162163288, '2022': 1.6931471805599454, 'lantas': 2.09861228866811, 'vaksinasi': 6.29583686600433, 'influenza': 2.09861228866811, 'ketua': 1.6931471805599454, 'satgas': 1.6931471805599454, 'ikat': 1.6931471805599454, 'dokter': 1.6931471805599454, 'idi': 1.6931471805599454, 'prof': 1.6931471805599454, 'zubairi': 1.6931471805599454, 'djoerban': 1.6931471805599454, 'kait': 1.6931471805599454, 'suntik': 0.0, 'ampuh': 0.0, 'lawan': 0.0, 'varian': 0.0, 'delta': 0.0, 'cs': 0.0, 'pakar': 0.0, '1': 10.158883083359672, 'alami': 0.0, 'turun': 0.0, 'efektivitas': 0.0, 'hadap': 0.0, 'corona': 0.0, 'jenis': 0.0, 'strain': 0.0, 'virus': 0.0, 'singgung': 0.0, 'riset': 0.0, 'dasar': 0.0, 'pfizer': 0.0, 'moderna': 0.0, 'bukti': 0.0, 'alert': 0.0, 'dki': 0.0, 'data': 0.0, 'balitbangkes': 0.0, '13': 0.0, 'november': 0.0, 'jawa': 0.0, 'barat': 0.0, '165': 0.0, '90': 0.0, 'sulawesi': 0.0, 'utara': 0.0, '86': 0.0, 'alpha': 0.0, 'beta': 0.0, 'total': 0.0, '327': 0.0, 'as': 18.88751059801299, 'dadak': 0.0, 'serang': 0.0, 'reda': 0.0, 'amerika': 0.0, 'serikat': 0.0, 'catat': 0.0, 'stabil': 0.0, 'pasca': 0.0, 'musim': 0.0, 'panas': 0.0, 'kepala': 0.0, 'nasihat': 0.0, 'medis': 0.0, 'gedung': 0.0, 'putih': 0.0, 'anthony': 0.0, 'fauci': 0.0, 'senin': 0.0, '15': 0.0, '11': 0.0, 'nasional': 0.0, '57': 0.0, 'persen': 0.0, 'minggu': 0.0, 'puncak': 0.0, 'gelombang': 0.0, 'pasien': 0.0, 'area': 0.0, 'timur': 0.0, 'laut': 0.0}, 'doc3': {'wilayah': 0.0, 'bebas': 0.0, 'covid': 11.16703787691222, '-': 6.0, '19': 11.16703787691222, 'cek': 0.0, '34': 0.0, 'kab': 0.0, 'kota': 0.0, 'zona': 0.0, 'hijau': 0.0, 'jakarta': 1.0, 'perintah': 0.0, 'rencana': 0.0, 'terap': 0.0, 'laku': 0.0, 'batas': 0.0, 'giat': 0.0, 'masyarakat': 0.0, 'ppkm': 0.0, 'level': 0.0, '3': 0.0, 'hitung': 0.0, '24': 0.0, 'desember': 0.0, '2021': 0.0, '2': 13.545177444479563, 'januari': 0.0, 'menteri': 0.0, 'sehat': 0.0, 'ri': 11.243720864865315, 'bijak': 0.0, 'tahap': 0.0, 'kaji': 0.0, 'direktur': 0.0, 'cegah': 0.0, 'kendali': 0.0, 'sakit': 0.0, 'tular': 0.0, 'langsung': 1.4054651081081644, 'p2pml': 0.0, 'kemenkes': 0.0, 'dr': 0.0, 'siti': 0.0, 'nadia': 0.0, 'tarmizi': 0.0, 'signifikan': 0.0, 'picu': 0.0, 'tingkat': 0.0, 'mobilitas': 0.0, 'longgar': 0.0, 'protokol': 0.0, 'vaksin': 8.465735902799727, 'rutin': 0.0, 'gantung': 0.0, 'booster': 3.386294361119891, 'dosis': 5.079441541679836, 'indonesia': 2.8109302162163288, '2022': 3.386294361119891, 'lantas': 0.0, 'vaksinasi': 0.0, 'influenza': 0.0, 'ketua': 1.6931471805599454, 'satgas': 1.6931471805599454, 'ikat': 1.6931471805599454, 'dokter': 1.6931471805599454, 'idi': 1.6931471805599454, 'prof': 1.6931471805599454, 'zubairi': 1.6931471805599454, 'djoerban': 1.6931471805599454, 'kait': 1.6931471805599454, 'suntik': 2.09861228866811, 'ampuh': 2.09861228866811, 'lawan': 4.19722457733622, 'varian': 5.6218604324326575, 'delta': 4.216395324324493, 'cs': 2.09861228866811, 'pakar': 2.09861228866811, '1': 10.158883083359672, 'alami': 1.6931471805599454, 'turun': 3.386294361119891, 'efektivitas': 6.29583686600433, 'hadap': 2.09861228866811, 'corona': 1.6931471805599454, 'jenis': 2.09861228866811, 'strain': 2.09861228866811, 'virus': 2.09861228866811, 'singgung': 2.09861228866811, 'riset': 4.19722457733622, 'dasar': 2.09861228866811, 'pfizer': 2.09861228866811, 'moderna': 2.09861228866811, 'bukti': 2.09861228866811, 'alert': 0.0, 'dki': 0.0, 'data': 0.0, 'balitbangkes': 0.0, '13': 0.0, 'november': 0.0, 'jawa': 2.09861228866811, 'barat': 0.0, '165': 0.0, '90': 0.0, 'sulawesi': 0.0, 'utara': 0.0, '86': 0.0, 'alpha': 0.0, 'beta': 0.0, 'total': 0.0, '327': 0.0, 'as': 12.59167373200866, 'dadak': 0.0, 'serang': 0.0, 'reda': 0.0, 'amerika': 0.0, 'serikat': 0.0, 'catat': 0.0, 'stabil': 0.0, 'pasca': 0.0, 'musim': 0.0, 'panas': 0.0, 'kepala': 0.0, 'nasihat': 0.0, 'medis': 0.0, 'gedung': 0.0, 'putih': 0.0, 'anthony': 0.0, 'fauci': 0.0, 'senin': 0.0, '15': 0.0, '11': 0.0, 'nasional': 0.0, '57': 0.0, 'persen': 0.0, 'minggu': 0.0, 'puncak': 0.0, 'gelombang': 0.0, 'pasien': 0.0, 'area': 0.0, 'timur': 0.0, 'laut': 0.0}, 'doc4': {'wilayah': 0.0, 'bebas': 0.0, 'covid': 2.791759469228055, '-': 2.0, '19': 2.791759469228055, 'cek': 0.0, '34': 0.0, 'kab': 0.0, 'kota': 0.0, 'zona': 0.0, 'hijau': 0.0, 'jakarta': 4.0, 'perintah': 0.0, 'rencana': 0.0, 'terap': 0.0, 'laku': 0.0, 'batas': 0.0, 'giat': 0.0, 'masyarakat': 0.0, 'ppkm': 0.0, 'level': 0.0, '3': 4.19722457733622, 'hitung': 0.0, '24': 0.0, 'desember': 0.0, '2021': 0.0, '2': 1.6931471805599454, 'januari': 0.0, 'menteri': 0.0, 'sehat': 0.0, 'ri': 12.649185972973479, 'bijak': 0.0, 'tahap': 0.0, 'kaji': 0.0, 'direktur': 0.0, 'cegah': 0.0, 'kendali': 0.0, 'sakit': 0.0, 'tular': 0.0, 'langsung': 0.0, 'p2pml': 0.0, 'kemenkes': 1.6931471805599454, 'dr': 0.0, 'siti': 0.0, 'nadia': 0.0, 'tarmizi': 0.0, 'signifikan': 1.6931471805599454, 'picu': 0.0, 'tingkat': 3.386294361119891, 'mobilitas': 0.0, 'longgar': 0.0, 'protokol': 0.0, 'vaksin': 0.0, 'rutin': 0.0, 'gantung': 0.0, 'booster': 0.0, 'dosis': 0.0, 'indonesia': 1.4054651081081644, '2022': 0.0, 'lantas': 0.0, 'vaksinasi': 0.0, 'influenza': 0.0, 'ketua': 0.0, 'satgas': 0.0, 'ikat': 0.0, 'dokter': 0.0, 'idi': 0.0, 'prof': 0.0, 'zubairi': 0.0, 'djoerban': 0.0, 'kait': 0.0, 'suntik': 0.0, 'ampuh': 0.0, 'lawan': 0.0, 'varian': 8.432790648648986, 'delta': 5.6218604324326575, 'cs': 0.0, 'pakar': 0.0, '1': 6.772588722239782, 'alami': 1.6931471805599454, 'turun': 0.0, 'efektivitas': 0.0, 'hadap': 0.0, 'corona': 0.0, 'jenis': 0.0, 'strain': 0.0, 'virus': 0.0, 'singgung': 0.0, 'riset': 0.0, 'dasar': 0.0, 'pfizer': 0.0, 'moderna': 0.0, 'bukti': 0.0, 'alert': 2.09861228866811, 'dki': 8.39444915467244, 'data': 2.09861228866811, 'balitbangkes': 4.19722457733622, '13': 2.09861228866811, 'november': 2.09861228866811, 'jawa': 2.09861228866811, 'barat': 1.6931471805599454, '165': 2.09861228866811, '90': 2.09861228866811, 'sulawesi': 2.09861228866811, 'utara': 2.09861228866811, '86': 2.09861228866811, 'alpha': 2.09861228866811, 'beta': 2.09861228866811, 'total': 2.09861228866811, '327': 2.09861228866811, 'as': 14.69028602067677, 'dadak': 0.0, 'serang': 0.0, 'reda': 0.0, 'amerika': 0.0, 'serikat': 0.0, 'catat': 0.0, 'stabil': 0.0, 'pasca': 0.0, 'musim': 0.0, 'panas': 0.0, 'kepala': 0.0, 'nasihat': 0.0, 'medis': 0.0, 'gedung': 0.0, 'putih': 0.0, 'anthony': 0.0, 'fauci': 0.0, 'senin': 0.0, '15': 0.0, '11': 0.0, 'nasional': 0.0, '57': 0.0, 'persen': 0.0, 'minggu': 0.0, 'puncak': 0.0, 'gelombang': 0.0, 'pasien': 0.0, 'area': 0.0, 'timur': 0.0, 'laut': 0.0}, 'doc5': {'wilayah': 1.6931471805599454, 'bebas': 0.0, 'covid': 8.375278407684165, '-': 4.0, '19': 8.375278407684165, 'cek': 0.0, '34': 0.0, 'kab': 0.0, 'kota': 0.0, 'zona': 0.0, 'hijau': 0.0, 'jakarta': 1.0, 'perintah': 0.0, 'rencana': 0.0, 'terap': 0.0, 'laku': 0.0, 'batas': 0.0, 'giat': 0.0, 'masyarakat': 0.0, 'ppkm': 0.0, 'level': 0.0, '3': 0.0, 'hitung': 0.0, '24': 0.0, 'desember': 0.0, '2021': 1.6931471805599454, '2': 3.386294361119891, 'januari': 0.0, 'menteri': 0.0, 'sehat': 0.0, 'ri': 7.027325540540822, 'bijak': 0.0, 'tahap': 0.0, 'kaji': 0.0, 'direktur': 0.0, 'cegah': 0.0, 'kendali': 0.0, 'sakit': 0.0, 'tular': 0.0, 'langsung': 0.0, 'p2pml': 0.0, 'kemenkes': 0.0, 'dr': 1.6931471805599454, 'siti': 0.0, 'nadia': 0.0, 'tarmizi': 0.0, 'signifikan': 0.0, 'picu': 0.0, 'tingkat': 0.0, 'mobilitas': 0.0, 'longgar': 0.0, 'protokol': 0.0, 'vaksin': 0.0, 'rutin': 0.0, 'gantung': 0.0, 'booster': 0.0, 'dosis': 0.0, 'indonesia': 0.0, '2022': 0.0, 'lantas': 0.0, 'vaksinasi': 0.0, 'influenza': 0.0, 'ketua': 0.0, 'satgas': 0.0, 'ikat': 1.6931471805599454, 'dokter': 0.0, 'idi': 0.0, 'prof': 0.0, 'zubairi': 0.0, 'djoerban': 0.0, 'kait': 0.0, 'suntik': 0.0, 'ampuh': 0.0, 'lawan': 0.0, 'varian': 2.8109302162163288, 'delta': 4.216395324324493, 'cs': 0.0, 'pakar': 0.0, '1': 11.852030263919618, 'alami': 0.0, 'turun': 1.6931471805599454, 'efektivitas': 0.0, 'hadap': 0.0, 'corona': 1.6931471805599454, 'jenis': 0.0, 'strain': 0.0, 'virus': 0.0, 'singgung': 0.0, 'riset': 0.0, 'dasar': 0.0, 'pfizer': 0.0, 'moderna': 0.0, 'bukti': 0.0, 'alert': 0.0, 'dki': 0.0, 'data': 0.0, 'balitbangkes': 0.0, '13': 0.0, 'november': 0.0, 'jawa': 0.0, 'barat': 1.6931471805599454, '165': 0.0, '90': 0.0, 'sulawesi': 0.0, 'utara': 0.0, '86': 0.0, 'alpha': 0.0, 'beta': 0.0, 'total': 0.0, '327': 0.0, 'as': 20.986122886681102, 'dadak': 4.19722457733622, 'serang': 4.19722457733622, 'reda': 2.09861228866811, 'amerika': 2.09861228866811, 'serikat': 2.09861228866811, 'catat': 2.09861228866811, 'stabil': 2.09861228866811, 'pasca': 2.09861228866811, 'musim': 4.19722457733622, 'panas': 4.19722457733622, 'kepala': 2.09861228866811, 'nasihat': 2.09861228866811, 'medis': 2.09861228866811, 'gedung': 2.09861228866811, 'putih': 2.09861228866811, 'anthony': 2.09861228866811, 'fauci': 2.09861228866811, 'senin': 2.09861228866811, '15': 2.09861228866811, '11': 2.09861228866811, 'nasional': 2.09861228866811, '57': 2.09861228866811, 'persen': 2.09861228866811, 'minggu': 2.09861228866811, 'puncak': 2.09861228866811, 'gelombang': 2.09861228866811, 'pasien': 2.09861228866811, 'area': 2.09861228866811, 'timur': 2.09861228866811, 'laut': 2.09861228866811}}\n",
      "[[ 1.69314718  0.          0.          0.          1.69314718]\n",
      " [ 2.09861229  0.          0.          0.          0.        ]\n",
      " [ 5.58351894 16.75055682 11.16703788  2.79175947  8.37527841]\n",
      " [ 3.          7.          6.          2.          4.        ]\n",
      " [ 5.58351894 16.75055682 11.16703788  2.79175947  8.37527841]\n",
      " [ 2.09861229  0.          0.          0.          0.        ]\n",
      " [ 2.09861229  0.          0.          0.          0.        ]\n",
      " [ 2.09861229  0.          0.          0.          0.        ]\n",
      " [ 2.09861229  0.          0.          0.          0.        ]\n",
      " [ 2.09861229  0.          0.          0.          0.        ]\n",
      " [ 2.09861229  0.          0.          0.          0.        ]\n",
      " [ 1.          1.          1.          4.          1.        ]\n",
      " [ 2.09861229  0.          0.          0.          0.        ]\n",
      " [ 1.69314718  1.69314718  0.          0.          0.        ]\n",
      " [ 4.19722458  0.          0.          0.          0.        ]\n",
      " [ 1.69314718  1.69314718  0.          0.          0.        ]\n",
      " [ 2.09861229  0.          0.          0.          0.        ]\n",
      " [ 2.09861229  0.          0.          0.          0.        ]\n",
      " [ 2.09861229  0.          0.          0.          0.        ]\n",
      " [ 6.29583687  0.          0.          0.          0.        ]\n",
      " [ 6.29583687  0.          0.          0.          0.        ]\n",
      " [ 8.39444915  0.          0.          4.19722458  0.        ]\n",
      " [ 2.09861229  0.          0.          0.          0.        ]\n",
      " [ 2.09861229  0.          0.          0.          0.        ]\n",
      " [ 2.09861229  0.          0.          0.          0.        ]\n",
      " [ 3.38629436  0.          0.          0.          1.69314718]\n",
      " [11.85203026  5.07944154 13.54517744  1.69314718  3.38629436]\n",
      " [ 1.69314718  1.69314718  0.          0.          0.        ]\n",
      " [ 2.09861229  0.          0.          0.          0.        ]\n",
      " [ 4.19722458  0.          0.          0.          0.        ]\n",
      " [ 7.02732554  7.02732554 11.24372086 12.64918597  7.02732554]\n",
      " [ 2.09861229  0.          0.          0.          0.        ]\n",
      " [ 2.09861229  0.          0.          0.          0.        ]\n",
      " [ 2.09861229  0.          0.          0.          0.        ]\n",
      " [ 2.09861229  0.          0.          0.          0.        ]\n",
      " [ 2.09861229  0.          0.          0.          0.        ]\n",
      " [ 2.09861229  0.          0.          0.          0.        ]\n",
      " [ 2.09861229  0.          0.          0.          0.        ]\n",
      " [ 2.09861229  0.          0.          0.          0.        ]\n",
      " [ 1.40546511  1.40546511  1.40546511  0.          0.        ]\n",
      " [ 2.09861229  0.          0.          0.          0.        ]\n",
      " [ 1.69314718  0.          0.          1.69314718  0.        ]\n",
      " [ 1.69314718  0.          0.          0.          1.69314718]\n",
      " [ 2.09861229  0.          0.          0.          0.        ]\n",
      " [ 2.09861229  0.          0.          0.          0.        ]\n",
      " [ 2.09861229  0.          0.          0.          0.        ]\n",
      " [ 1.69314718  0.          0.          1.69314718  0.        ]\n",
      " [ 2.09861229  0.          0.          0.          0.        ]\n",
      " [ 1.69314718  0.          0.          3.38629436  0.        ]\n",
      " [ 2.09861229  0.          0.          0.          0.        ]\n",
      " [ 2.09861229  0.          0.          0.          0.        ]\n",
      " [ 2.09861229  0.          0.          0.          0.        ]\n",
      " [ 0.         10.15888308  8.4657359   0.          0.        ]\n",
      " [ 0.          2.09861229  0.          0.          0.        ]\n",
      " [ 0.          2.09861229  0.          0.          0.        ]\n",
      " [ 0.          3.38629436  3.38629436  0.          0.        ]\n",
      " [ 0.          1.69314718  5.07944154  0.          0.        ]\n",
      " [ 0.          2.81093022  2.81093022  1.40546511  0.        ]\n",
      " [ 0.          1.69314718  3.38629436  0.          0.        ]\n",
      " [ 0.          2.09861229  0.          0.          0.        ]\n",
      " [ 0.          6.29583687  0.          0.          0.        ]\n",
      " [ 0.          2.09861229  0.          0.          0.        ]\n",
      " [ 0.          1.69314718  1.69314718  0.          0.        ]\n",
      " [ 0.          1.69314718  1.69314718  0.          0.        ]\n",
      " [ 0.          1.69314718  1.69314718  0.          1.69314718]\n",
      " [ 0.          1.69314718  1.69314718  0.          0.        ]\n",
      " [ 0.          1.69314718  1.69314718  0.          0.        ]\n",
      " [ 0.          1.69314718  1.69314718  0.          0.        ]\n",
      " [ 0.          1.69314718  1.69314718  0.          0.        ]\n",
      " [ 0.          1.69314718  1.69314718  0.          0.        ]\n",
      " [ 0.          1.69314718  1.69314718  0.          0.        ]\n",
      " [ 0.          0.          2.09861229  0.          0.        ]\n",
      " [ 0.          0.          2.09861229  0.          0.        ]\n",
      " [ 0.          0.          4.19722458  0.          0.        ]\n",
      " [ 0.          0.          5.62186043  8.43279065  2.81093022]\n",
      " [ 0.          0.          4.21639532  5.62186043  4.21639532]\n",
      " [ 0.          0.          2.09861229  0.          0.        ]\n",
      " [ 0.          0.          2.09861229  0.          0.        ]\n",
      " [ 6.77258872 10.15888308 10.15888308  6.77258872 11.85203026]\n",
      " [ 0.          0.          1.69314718  1.69314718  0.        ]\n",
      " [ 0.          0.          3.38629436  0.          1.69314718]\n",
      " [ 0.          0.          6.29583687  0.          0.        ]\n",
      " [ 0.          0.          2.09861229  0.          0.        ]\n",
      " [ 0.          0.          1.69314718  0.          1.69314718]\n",
      " [ 0.          0.          2.09861229  0.          0.        ]\n",
      " [ 0.          0.          2.09861229  0.          0.        ]\n",
      " [ 0.          0.          2.09861229  0.          0.        ]\n",
      " [ 0.          0.          2.09861229  0.          0.        ]\n",
      " [ 0.          0.          4.19722458  0.          0.        ]\n",
      " [ 0.          0.          2.09861229  0.          0.        ]\n",
      " [ 0.          0.          2.09861229  0.          0.        ]\n",
      " [ 0.          0.          2.09861229  0.          0.        ]\n",
      " [ 0.          0.          2.09861229  0.          0.        ]\n",
      " [ 0.          0.          0.          2.09861229  0.        ]\n",
      " [ 0.          0.          0.          8.39444915  0.        ]\n",
      " [ 0.          0.          0.          2.09861229  0.        ]\n",
      " [ 0.          0.          0.          4.19722458  0.        ]\n",
      " [ 0.          0.          0.          2.09861229  0.        ]\n",
      " [ 0.          0.          0.          2.09861229  0.        ]\n",
      " [ 0.          0.          2.09861229  2.09861229  0.        ]\n",
      " [ 0.          0.          0.          1.69314718  1.69314718]\n",
      " [ 0.          0.          0.          2.09861229  0.        ]\n",
      " [ 0.          0.          0.          2.09861229  0.        ]\n",
      " [ 0.          0.          0.          2.09861229  0.        ]\n",
      " [ 0.          0.          0.          2.09861229  0.        ]\n",
      " [ 0.          0.          0.          2.09861229  0.        ]\n",
      " [ 0.          0.          0.          2.09861229  0.        ]\n",
      " [ 0.          0.          0.          2.09861229  0.        ]\n",
      " [ 0.          0.          0.          2.09861229  0.        ]\n",
      " [ 0.          0.          0.          2.09861229  0.        ]\n",
      " [14.69028602 18.8875106  12.59167373 14.69028602 20.98612289]\n",
      " [ 0.          0.          0.          0.          4.19722458]\n",
      " [ 0.          0.          0.          0.          4.19722458]\n",
      " [ 0.          0.          0.          0.          2.09861229]\n",
      " [ 0.          0.          0.          0.          2.09861229]\n",
      " [ 0.          0.          0.          0.          2.09861229]\n",
      " [ 0.          0.          0.          0.          2.09861229]\n",
      " [ 0.          0.          0.          0.          2.09861229]\n",
      " [ 0.          0.          0.          0.          2.09861229]\n",
      " [ 0.          0.          0.          0.          4.19722458]\n",
      " [ 0.          0.          0.          0.          4.19722458]\n",
      " [ 0.          0.          0.          0.          2.09861229]\n",
      " [ 0.          0.          0.          0.          2.09861229]\n",
      " [ 0.          0.          0.          0.          2.09861229]\n",
      " [ 0.          0.          0.          0.          2.09861229]\n",
      " [ 0.          0.          0.          0.          2.09861229]\n",
      " [ 0.          0.          0.          0.          2.09861229]\n",
      " [ 0.          0.          0.          0.          2.09861229]\n",
      " [ 0.          0.          0.          0.          2.09861229]\n",
      " [ 0.          0.          0.          0.          2.09861229]\n",
      " [ 0.          0.          0.          0.          2.09861229]\n",
      " [ 0.          0.          0.          0.          2.09861229]\n",
      " [ 0.          0.          0.          0.          2.09861229]\n",
      " [ 0.          0.          0.          0.          2.09861229]\n",
      " [ 0.          0.          0.          0.          2.09861229]\n",
      " [ 0.          0.          0.          0.          2.09861229]\n",
      " [ 0.          0.          0.          0.          2.09861229]\n",
      " [ 0.          0.          0.          0.          2.09861229]\n",
      " [ 0.          0.          0.          0.          2.09861229]\n",
      " [ 0.          0.          0.          0.          2.09861229]\n",
      " [ 0.          0.          0.          0.          2.09861229]]\n"
     ]
    }
   ],
   "source": [
    "tf_idf = tfidf(vocab, termFrequencyInDoc(vocab, doc_dict), inverseDocFre(vocab, wordDocFre(vocab, doc_dict),len(doc_dict)), doc_dict)\n",
    "print(tf_idf)\n",
    "\n",
    "# Term - Document, Matrix\n",
    "\n",
    "TD = np.zeros((len(vocab),len(doc_dict)))\n",
    "for word in vocab: \n",
    "    for doc_id, doc in tf_idf.items():\n",
    "        ind1 = vocab.index(word)\n",
    "        ind2 = list(tf_idf.keys()).index(doc_id)\n",
    "        TD[ind1][ind2] = tf_idf[doc_id][word]\n",
    "print(TD)"
   ]
  },
  {
   "cell_type": "code",
   "execution_count": 54,
   "id": "598b6457",
   "metadata": {},
   "outputs": [],
   "source": [
    "#UKURAN KEMIRIPAN TEKS\n",
    "\n",
    "#edit distance\n",
    "\n",
    "def edit_distance(string1, string2):\n",
    "    if len(string1) > len(string2):\n",
    "        difference = len(string1) - len(string2)\n",
    "        string1[:difference]\n",
    "        n  = len(string2)\n",
    "    elif len(string2) > len(string1):\n",
    "        difference = len(string2) - len(string1)\n",
    "        string2[:difference]\n",
    "        n =  len(string1)\n",
    "    for i in range(n):\n",
    "        if string1[i] != string2[i]:\n",
    "            difference += 1\n",
    "    return difference"
   ]
  },
  {
   "cell_type": "code",
   "execution_count": 65,
   "id": "092abb1e",
   "metadata": {},
   "outputs": [
    {
     "name": "stdout",
     "output_type": "stream",
     "text": [
      "doc1 ke doc lain\n",
      "493\n",
      "600\n",
      "442\n",
      "459\n",
      "\n",
      "doc2 ke doc lain\n",
      "592\n",
      "491\n",
      "484\n",
      "\n",
      "doc3 ke doc lain\n",
      "601\n",
      "587\n",
      "\n",
      "doc4 ke doc lain\n",
      "460\n"
     ]
    }
   ],
   "source": [
    "print(\"doc1 ke doc lain\")\n",
    "print(edit_distance(doc_dict['doc1'], doc_dict['doc2']))\n",
    "print(edit_distance(doc_dict['doc1'], doc_dict['doc3']))\n",
    "print(edit_distance(doc_dict['doc1'], doc_dict['doc4']))\n",
    "print(edit_distance(doc_dict['doc1'], doc_dict['doc5']))\n",
    "\n",
    "print(\"\\ndoc2 ke doc lain\")\n",
    "print(edit_distance(doc_dict['doc2'], doc_dict['doc3']))\n",
    "print(edit_distance(doc_dict['doc2'], doc_dict['doc4']))\n",
    "print(edit_distance(doc_dict['doc2'], doc_dict['doc5']))\n",
    "\n",
    "print(\"\\ndoc3 ke doc lain\")\n",
    "print(edit_distance(doc_dict['doc3'], doc_dict['doc4']))\n",
    "print(edit_distance(doc_dict['doc3'], doc_dict['doc5']))\n",
    "\n",
    "print(\"\\ndoc4 ke doc lain\")\n",
    "print(edit_distance(doc_dict['doc4'], doc_dict['doc5']))\n"
   ]
  },
  {
   "cell_type": "code",
   "execution_count": 66,
   "id": "508afb64",
   "metadata": {},
   "outputs": [],
   "source": [
    "#JACCARD SIMILARITY\n",
    "\n",
    "def jaccard_sim(list1, list2):\n",
    "    intersection = len(list(set(list1).intersection(list2)))\n",
    "    union = (len(list1)+len(list2)) - intersection\n",
    "    return float(intersection) / union"
   ]
  },
  {
   "cell_type": "code",
   "execution_count": 74,
   "id": "432b2d7a",
   "metadata": {},
   "outputs": [
    {
     "name": "stdout",
     "output_type": "stream",
     "text": [
      "doc1 ke doc lain\n",
      "0.09395973154362416\n",
      "0.07514450867052024\n",
      "0.08666666666666667\n",
      "0.07741935483870968\n",
      "\n",
      "doc2 ke doc lain\n",
      "0.16560509554140126\n",
      "0.059602649006622516\n",
      "0.06493506493506493\n",
      "\n",
      "doc3 ke doc lain\n",
      "0.09580838323353294\n",
      "0.06857142857142857\n",
      "\n",
      "doc4 ke doc lain\n",
      "0.08609271523178808\n"
     ]
    }
   ],
   "source": [
    "print(\"doc1 ke doc lain\")\n",
    "print(jaccard_sim(doc_dict['doc1'].split(\" \"),doc_dict['doc2'].split(\" \")))\n",
    "print(jaccard_sim(doc_dict['doc1'].split(\" \"),doc_dict['doc3'].split(\" \")))\n",
    "print(jaccard_sim(doc_dict['doc1'].split(\" \"),doc_dict['doc4'].split(\" \")))\n",
    "print(jaccard_sim(doc_dict['doc1'].split(\" \"),doc_dict['doc5'].split(\" \")))\n",
    "\n",
    "print(\"\\ndoc2 ke doc lain\")\n",
    "print(jaccard_sim(doc_dict['doc2'].split(\" \"),doc_dict['doc3'].split(\" \")))\n",
    "print(jaccard_sim(doc_dict['doc2'].split(\" \"),doc_dict['doc4'].split(\" \")))\n",
    "print(jaccard_sim(doc_dict['doc2'].split(\" \"),doc_dict['doc5'].split(\" \")))\n",
    "\n",
    "print(\"\\ndoc3 ke doc lain\")\n",
    "print(jaccard_sim(doc_dict['doc3'].split(\" \"),doc_dict['doc4'].split(\" \")))\n",
    "print(jaccard_sim(doc_dict['doc3'].split(\" \"),doc_dict['doc5'].split(\" \")))\n",
    "\n",
    "print(\"\\ndoc4 ke doc lain\")\n",
    "print(jaccard_sim(doc_dict['doc4'].split(\" \"),doc_dict['doc5'].split(\" \")))"
   ]
  },
  {
   "cell_type": "code",
   "execution_count": 75,
   "id": "dcb21f06",
   "metadata": {},
   "outputs": [],
   "source": [
    "#EUCLIDIAN DISTANCE\n",
    "def euclidian_dist(vec1,vec2):\n",
    "    # subtracting vector\n",
    "    \n",
    "    temp = vec1 - vec2\n",
    "    \n",
    "    #doing dot product\n",
    "    #for finding\n",
    "    #sum of te squares\n",
    "    sum_sq = np.dot(temp.T,temp)\n",
    "    \n",
    "    #Doing squarefoot and\n",
    "    #printing Euclidean distance\n",
    "    return np.sqrt(sum_sq)\n"
   ]
  },
  {
   "cell_type": "code",
   "execution_count": 76,
   "id": "53907429",
   "metadata": {},
   "outputs": [
    {
     "name": "stdout",
     "output_type": "stream",
     "text": [
      "doc1 ke doc lain\n",
      "29.983699021395978\n",
      "28.65294953743506\n",
      "26.8302339516762\n",
      "26.82095529351533\n",
      "\n",
      "doc2 ke doc lain\n",
      "21.87701427936018\n",
      "31.69970282920237\n",
      "24.62421295976927\n",
      "\n",
      "doc3 ke doc lain\n",
      "28.515254343453687\n",
      "26.715590424016575\n",
      "\n",
      "doc4 ke doc lain\n",
      "24.50345477227729\n"
     ]
    }
   ],
   "source": [
    "print(\"doc1 ke doc lain\")\n",
    "print(euclidian_dist(TD[:,0], TD[:,1])) #doc1 & doc2\n",
    "print(euclidian_dist(TD[:,0], TD[:,2])) #doc1 & doc3\n",
    "print(euclidian_dist(TD[:,0], TD[:,3])) #doc1 & doc4\n",
    "print(euclidian_dist(TD[:,0], TD[:,4])) #doc1 & doc5\n",
    "\n",
    "print(\"\\ndoc2 ke doc lain\")\n",
    "print(euclidian_dist(TD[:,1], TD[:,2])) #doc2 & doc3\n",
    "print(euclidian_dist(TD[:,1], TD[:,3])) #doc2 & doc4\n",
    "print(euclidian_dist(TD[:,1], TD[:,4])) #doc2 & doc5\n",
    "\n",
    "print(\"\\ndoc3 ke doc lain\")\n",
    "print(euclidian_dist(TD[:,2], TD[:,3])) #doc3 & doc4\n",
    "print(euclidian_dist(TD[:,2], TD[:,4])) #doc3 & doc5\n",
    "\n",
    "print(\"\\ndoc4 ke doc lain\")\n",
    "print(euclidian_dist(TD[:,3], TD[:,4])) #doc4 & doc5\n"
   ]
  },
  {
   "cell_type": "code",
   "execution_count": 77,
   "id": "ebd31ddf",
   "metadata": {},
   "outputs": [],
   "source": [
    "#COSINE SIMILARITY\n",
    "\n",
    "import math\n",
    "def cosine_sim(vec1, vec2):\n",
    "    vec1 = list(vec1)\n",
    "    vec2 = list(vec2)\n",
    "    dot_prod = 0\n",
    "    for i, v in enumerate (vec1):\n",
    "        dot_prod += v * vec2[i]\n",
    "    mag_1 = math.sqrt(sum([x**2 for x in vec1]))\n",
    "    mag_2 = math.sqrt(sum([x**2 for x in vec2]))\n",
    "    \n",
    "    return dot_prod / (mag_1*mag_2)\n"
   ]
  },
  {
   "cell_type": "code",
   "execution_count": 80,
   "id": "edc32479",
   "metadata": {},
   "outputs": [
    {
     "name": "stdout",
     "output_type": "stream",
     "text": [
      "doc1 ke doc lain\n",
      "0.6149771001307007\n",
      "0.6167955480053066\n",
      "0.561905856717853\n",
      "0.6255448277386594\n",
      "\n",
      "doc2 ke doc lain\n",
      "0.8162799188325175\n",
      "0.5501839798971456\n",
      "0.7546956103451156\n",
      "\n",
      "doc3 ke doc lain\n",
      "0.6045719160702497\n",
      "0.6847538653474112\n",
      "\n",
      "doc4 ke doc lain\n",
      "0.6716031905461545\n"
     ]
    }
   ],
   "source": [
    "print(\"doc1 ke doc lain\")\n",
    "print(cosine_sim(TD[:,0], TD[:,1])) #doc1 & doc2\n",
    "print(cosine_sim(TD[:,0], TD[:,2])) #doc1 & doc3\n",
    "print(cosine_sim(TD[:,0], TD[:,3])) #doc1 & doc4\n",
    "print(cosine_sim(TD[:,0], TD[:,4])) #doc1 & doc5\n",
    "\n",
    "print(\"\\ndoc2 ke doc lain\")\n",
    "print(cosine_sim(TD[:,1], TD[:,2])) #doc2 & doc3\n",
    "print(cosine_sim(TD[:,1], TD[:,3])) #doc2 & doc4\n",
    "print(cosine_sim(TD[:,1], TD[:,4])) #doc2 & doc5\n",
    "\n",
    "print(\"\\ndoc3 ke doc lain\")\n",
    "print(cosine_sim(TD[:,2], TD[:,3])) #doc3 & doc4\n",
    "print(cosine_sim(TD[:,2], TD[:,4])) #doc3 & doc5\n",
    "\n",
    "print(\"\\ndoc4 ke doc lain\")\n",
    "print(cosine_sim(TD[:,3], TD[:,4])) #doc4 & doc5"
   ]
  },
  {
   "cell_type": "code",
   "execution_count": null,
   "id": "e9ff9c95",
   "metadata": {},
   "outputs": [],
   "source": []
  }
 ],
 "metadata": {
  "kernelspec": {
   "display_name": "Python 3 (ipykernel)",
   "language": "python",
   "name": "python3"
  },
  "language_info": {
   "codemirror_mode": {
    "name": "ipython",
    "version": 3
   },
   "file_extension": ".py",
   "mimetype": "text/x-python",
   "name": "python",
   "nbconvert_exporter": "python",
   "pygments_lexer": "ipython3",
   "version": "3.9.12"
  }
 },
 "nbformat": 4,
 "nbformat_minor": 5
}
