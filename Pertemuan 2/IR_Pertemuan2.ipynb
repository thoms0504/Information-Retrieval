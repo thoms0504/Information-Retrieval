{
 "cells": [
  {
   "cell_type": "markdown",
   "id": "91cddcc8",
   "metadata": {},
   "source": [
    "# Information Retrieval Pertemuan 2"
   ]
  },
  {
   "cell_type": "code",
   "execution_count": 2,
   "id": "ae30f7df",
   "metadata": {},
   "outputs": [],
   "source": [
    "import os, re\n",
    "from spacy.lang.id import Indonesian\n",
    "from Sastrawi.Stemmer.StemmerFactory import StemmerFactory"
   ]
  },
  {
   "cell_type": "markdown",
   "id": "dd89a09a",
   "metadata": {},
   "source": [
    "## Percobaan Information Retrieval pada Data Type Python"
   ]
  },
  {
   "cell_type": "code",
   "execution_count": 2,
   "id": "219f250c",
   "metadata": {},
   "outputs": [],
   "source": [
    "doc1 = \"pengembangan sistem informasi penjadwalan mata kuliah information retrieval\"\n",
    "doc1_term = [\"pengembangan\", \"sistem\", \"informasi\", \"penjadwalan\", \"mata\", \"kuliah\", \"information\", \"retrieval\"]\n",
    "doc2 = \"pengembangan model analisis sentimen berita\"\n",
    "doc2_term = [\"pengembangan\", \"model\", \"analisis\", \"sentimen\",  \"berita\"]\n",
    "doc3 = \"pengembangan analisis sistem input output dalam information retrieval\"\n",
    "doc3_term = [\"pengembangan\", \"analisis\", \"sistem\", \"input\", \"output\", \"dalam\", \"information\", \"retrieval\"]\n",
    "\n",
    "corpus = [doc1, doc2, doc3]\n",
    "corpus_term = [doc1_term, doc2_term, doc3_term]\n",
    "[doc1],[doc2],[doc3]"
   ]
  },
  {
   "cell_type": "code",
   "execution_count": 3,
   "id": "0459ce38",
   "metadata": {},
   "outputs": [
    {
     "name": "stdout",
     "output_type": "stream",
     "text": [
      "{'pengembangan': 3, 'sistem': 2, 'informasi': 1, 'penjadwalan': 1, 'mata': 1, 'kuliah': 1, 'information': 2, 'retrieval': 2, 'model': 1, 'analisis': 2, 'sentimen': 1, 'berita': 1, 'input': 1, 'output': 1, 'dalam': 1}\n"
     ]
    }
   ],
   "source": [
    "voc = {}\n",
    "\n",
    "for d in corpus_term:\n",
    "    for term in d:\n",
    "        if term not in voc:\n",
    "            voc[term] = 1\n",
    "        else:\n",
    "            voc[term] += 1\n",
    "print(voc)"
   ]
  },
  {
   "cell_type": "markdown",
   "id": "af81c4cc",
   "metadata": {},
   "source": [
    "## Tokenisasi Sebuah Dokumen"
   ]
  },
  {
   "cell_type": "markdown",
   "id": "09b0a0fc",
   "metadata": {},
   "source": [
    "### Manual"
   ]
  },
  {
   "cell_type": "code",
   "execution_count": 27,
   "id": "b215f7a4",
   "metadata": {},
   "outputs": [],
   "source": [
    "def tokenization(corpus):\n",
    "    for text in corpus:\n",
    "        tokens = text.split(\" \")\n",
    "        print(tokens)"
   ]
  },
  {
   "cell_type": "code",
   "execution_count": 28,
   "id": "5253b04b",
   "metadata": {},
   "outputs": [
    {
     "name": "stdout",
     "output_type": "stream",
     "text": [
      "['pengembangan', 'sistem', 'informasi', 'penjadwalan']\n",
      "['pengembangan', 'model', 'analisis', 'sentimen', 'berita']\n",
      "['pengembangan', 'analisis', 'sistem', 'input', 'output']\n"
     ]
    }
   ],
   "source": [
    "tokenization(corpus)"
   ]
  },
  {
   "cell_type": "markdown",
   "id": "31a98579",
   "metadata": {},
   "source": [
    "### Menggunakan Library Spacy"
   ]
  },
  {
   "cell_type": "code",
   "execution_count": 40,
   "id": "b7b7091d",
   "metadata": {},
   "outputs": [
    {
     "name": "stdout",
     "output_type": "stream",
     "text": [
      "['pengembangan', 'sistem', 'informasi', 'penjadwalan']\n",
      "['pengembangan', 'model', 'analisis', 'sentimen', 'berita']\n",
      "['pengembangan', 'analisis', 'sistem', 'input', 'output']\n"
     ]
    }
   ],
   "source": [
    "nlp = Indonesian()\n",
    "for doc in corpus:\n",
    "    spacy_id = nlp(doc)\n",
    "    token_kata = [token.text for token in spacy_id]\n",
    "    print(token_kata)"
   ]
  },
  {
   "cell_type": "markdown",
   "id": "361312af",
   "metadata": {},
   "source": [
    "## Pengkapitalan Dokumen"
   ]
  },
  {
   "cell_type": "code",
   "execution_count": 42,
   "id": "59e07bb6",
   "metadata": {},
   "outputs": [
    {
     "name": "stdout",
     "output_type": "stream",
     "text": [
      "PENGEMBANGAN SISTEM INFORMASI PENJADWALAN\n",
      "PENGEMBANGAN MODEL ANALISIS SENTIMEN BERITA\n",
      "PENGEMBANGAN ANALISIS SISTEM INPUT OUTPUT\n"
     ]
    }
   ],
   "source": [
    "# Kapitalisasi Dokumen Menjadi Huruf Besar\n",
    "for doc in corpus:\n",
    "    text_up = doc.upper()\n",
    "    print(text_up)"
   ]
  },
  {
   "cell_type": "code",
   "execution_count": 43,
   "id": "1956e5e7",
   "metadata": {},
   "outputs": [
    {
     "name": "stdout",
     "output_type": "stream",
     "text": [
      "pengembangan sistem informasi penjadwalan\n",
      "pengembangan model analisis sentimen berita\n",
      "pengembangan analisis sistem input output\n"
     ]
    }
   ],
   "source": [
    "# Kapitalisasi Dokumen Menjadi Huruf Kecil\n",
    "for doc in corpus:\n",
    "    text_low = doc.lower()\n",
    "    print(text_low)"
   ]
  },
  {
   "cell_type": "markdown",
   "id": "685bb9fb",
   "metadata": {},
   "source": [
    "## Penggunaan Stopwords"
   ]
  },
  {
   "cell_type": "code",
   "execution_count": 48,
   "id": "aa1025d2",
   "metadata": {},
   "outputs": [
    {
     "name": "stdout",
     "output_type": "stream",
     "text": [
      "['Pengembangan', 'sistem', 'IR', 'metode', 'input', 'output']\n"
     ]
    }
   ],
   "source": [
    "doc_new = \"Pengembangan sistem IR yang akan dilakukan pada waktu dekat ini menggunakan metode input output\"\n",
    "\n",
    "stopwords = nlp.Defaults.stop_words\n",
    "spacy_new = nlp(doc_new)\n",
    "token_new = [token.text for token in spacy_new]\n",
    "tokens_stopwords = [w for w in token_new if w not in stopwords]\n",
    "print(tokens_stopwords)"
   ]
  },
  {
   "cell_type": "markdown",
   "id": "8e80062c",
   "metadata": {},
   "source": [
    "## Normalisasi Tata Bahasa sebuah Dokumen"
   ]
  },
  {
   "cell_type": "code",
   "execution_count": 51,
   "id": "5d813593",
   "metadata": {},
   "outputs": [
    {
     "name": "stdout",
     "output_type": "stream",
     "text": [
      "['saya', 'sedang', 'di', 'jalan', 'nih']\n"
     ]
    }
   ],
   "source": [
    "normal_list = {\"gue\": \"saya\", \"gua\": \"saya\", \"aku\": \"saya\", \"aq\": \"saya\", \"lagi\": \"sedang\"}\n",
    "text = \"gua lagi di jalan nih\"\n",
    "text_normal = []\n",
    "for t in text.split(\" \"):\n",
    "    text_normal.append(normal_list[t] if t in normal_list else t)\n",
    "print(text_normal)"
   ]
  },
  {
   "cell_type": "markdown",
   "id": "a4cf4046",
   "metadata": {},
   "source": [
    "## Implementasi Stemming pada Sebuah Dokumen"
   ]
  },
  {
   "cell_type": "code",
   "execution_count": 54,
   "id": "3e0b0b3e",
   "metadata": {},
   "outputs": [
    {
     "name": "stdout",
     "output_type": "stream",
     "text": [
      "kembang sistem informasi jadwal\n",
      "kembang model analisis sentimen berita\n",
      "kembang analisis sistem input output\n"
     ]
    }
   ],
   "source": [
    "stemmer = StemmerFactory().create_stemmer()\n",
    "for doc in corpus:\n",
    "    stemming_text = stemmer.stem(doc)\n",
    "    print(stemming_text)"
   ]
  },
  {
   "cell_type": "markdown",
   "id": "3f52a145",
   "metadata": {},
   "source": [
    "## Penugasan"
   ]
  },
  {
   "cell_type": "code",
   "execution_count": 29,
   "id": "ec02a639",
   "metadata": {},
   "outputs": [],
   "source": [
    "text_p = \"Mobilitas warga bakal diperketat melalui penerapan PPKM level 3 se-Indonesia di masa libur Natal dan tahun baru (Nataru). Rencana kebijakan itu dikritik oleh Epidemiolog dari Griffith University Dicky Budiman.\\nDicky menyebut pembatasan mobilitas memang akan memiliki dampak dalam mencegah penularan COVID-19. Tapi, kata dia, dampaknya signifikan atau tidak akan bergantung pada konsistensi yang mendasar yakni testing, tracing, treatment (3T) hingga vaksinasi COVID-19.\"\n",
    "text_s = \"Mobilitas warga bakal diperketat melalui penerapan PPKM level 3 se-Indonesia di masa libur Natal dan tahun baru (Nataru).Rencana kebijakan itu dikritik oleh Epidemiolog dari Griffith University Dicky Budiman\""
   ]
  },
  {
   "cell_type": "code",
   "execution_count": 30,
   "id": "302f5b32",
   "metadata": {},
   "outputs": [],
   "source": [
    "def tokenisasi_p(text):\n",
    "    token_paragraf = text.split(\"\\n\")\n",
    "    print(f\"List paragraf: \\n\\np1: {token_paragraf[0]} \\n\\np2: {token_paragraf[1]}\")"
   ]
  },
  {
   "cell_type": "code",
   "execution_count": 31,
   "id": "3abab00a",
   "metadata": {},
   "outputs": [],
   "source": [
    "def tokenisasi_s(text):\n",
    "    token_kalimat = text.split(\".\")\n",
    "    print(f\"\\n\\nList kalimat: \\n\\ns1: {token_kalimat[0]}.\\n\\ns2: {token_kalimat[1]}.\")"
   ]
  },
  {
   "cell_type": "code",
   "execution_count": 32,
   "id": "ff58a98f",
   "metadata": {
    "scrolled": true
   },
   "outputs": [
    {
     "name": "stdout",
     "output_type": "stream",
     "text": [
      "List paragraf: \n",
      "\n",
      "p1: Mobilitas warga bakal diperketat melalui penerapan PPKM level 3 se-Indonesia di masa libur Natal dan tahun baru (Nataru). Rencana kebijakan itu dikritik oleh Epidemiolog dari Griffith University Dicky Budiman. \n",
      "\n",
      "p2: Dicky menyebut pembatasan mobilitas memang akan memiliki dampak dalam mencegah penularan COVID-19. Tapi, kata dia, dampaknya signifikan atau tidak akan bergantung pada konsistensi yang mendasar yakni testing, tracing, treatment (3T) hingga vaksinasi COVID-19.\n",
      "\n",
      "\n",
      "List kalimat: \n",
      "\n",
      "s1: Mobilitas warga bakal diperketat melalui penerapan PPKM level 3 se-Indonesia di masa libur Natal dan tahun baru (Nataru).\n",
      "\n",
      "s2: Rencana kebijakan itu dikritik oleh Epidemiolog dari Griffith University Dicky Budiman.\n"
     ]
    }
   ],
   "source": [
    "tokenisasi_p(text_p)\n",
    "tokenisasi_s(text_s)"
   ]
  },
  {
   "cell_type": "code",
   "execution_count": 5,
   "id": "c1aef226",
   "metadata": {
    "scrolled": true
   },
   "outputs": [
    {
     "name": "stdout",
     "output_type": "stream",
     "text": [
      "['Wilayah', 'Kamu', 'Sudah', \"'\", 'Bebas', \"'\", 'COVID', '-', '19', '?', 'Cek', '34', 'Kab', '/', 'Kota', 'Zona', 'Hijau', 'Terbaru', ' ', 'Jakarta', '-', 'Pemerintah', 'rencananya', 'bakal', 'menerapkan', 'Pemberlakuan', 'Pembatasan', 'Kegiatan', 'Masyarakat', '(', 'PPKM', ')', 'level', '3', 'terhitung', '24', 'Desember', '2021', 'hingga', '2', 'Januari', '2021', '.', 'Namun', ',', 'Kementerian', 'Kesehatan', 'RI', 'memastikan', 'kebijakan', 'PPKM', 'level', '3', 'ini', 'masih', 'dalam', 'tahap', 'kajian', '.', 'Menurut', 'Direktur', 'Pencegahan', 'dan', 'Pengendalian', 'Penyakit', 'Menular', 'Langsung', '(', 'P2PML', ')', 'Kemenkes', 'RI', 'dr', 'Siti', 'Nadia', 'Tarmizi', ',', 'PPKM', 'level', '3', 'bakal', 'diterapkan', 'jika', 'kasus', 'COVID', '-', '19', 'naik', 'signifikan', '.', 'Hal', 'ini', 'umumnya', 'dipicu', 'dengan', 'peningkatan', 'mobilitas', 'dan', 'pelonggaran', 'protokol', 'kesehatan', '.', ' ']\n",
      "['Vaksin', 'COVID', '-', '19', 'Bakal', 'Rutin', 'Setiap', 'Tahun', '?', 'Tergantung', ',', 'Ini', 'Penjelasannya', ' ', 'Jakarta', '-', 'Pemberian', 'booster', 'atau', 'dosis', 'ketiga', 'vaksin', 'COVID', '-', '19', 'di', 'Indonesia', 'direncanakan', 'bakal', 'berlangsung', 'Januari', '2022', '.', 'Lantas', 'adakah', 'kemungkinan', 'vaksinasi', 'COVID', '-', '19', 'bakal', 'harus', 'dilakukan', 'setiap', 'tahun', 'seperti', 'vaksinasi', 'influenza', '?', 'Ketua', 'Satgas', 'COVID', '-', '19', 'Ikatan', 'Dokter', 'Indonesia', '(', 'IDI', ')', 'Prof', 'Zubairi', 'Djoerban', 'menjelaskan', 'hingga', 'kini', 'belum', 'ada', 'kepastian', 'terkait', 'hal', 'tersebut', '.', 'Menurutnya', 'masih', 'ada', 'kemungkinan', 'vaksin', 'COVID', '-', '19', 'harus', 'diberikan', 'setiap', 'tahun', ',', 'ada', 'juga', 'kemungkinan', 'cukup', 'booster', 'diberikan', 'sekali', 'kemudian', 'vaksinasi', 'COVID', '-', '19', 'tidak', 'diperlukan', 'lagi', '.', ' ']\n",
      "['RI', 'Mulai', 'Suntikkan', 'Booster', 'di', '2022', ',', 'Masihkah', 'Ampuh', 'Lawan', 'Varian', 'Delta', 'Cs', '?', ' ', 'Jakarta', '-', 'Pakar', 'mengakui', 'vaksin', '-', 'vaksin', 'yang', 'sudah', 'digunakan', 'untuk', 'dosis', '1', '-', '2', 'memang', 'mengalami', 'penurunan', 'efektivitas', 'terhadap', 'varian', 'baru', 'Corona', 'seperti', 'varian', 'Delta', '.', 'Mengingat', 'booster', 'atau', 'dosis', 'ketiga', 'vaksin', 'COVID', '-', '19', 'di', 'Indonesia', 'disebut', 'bakal', 'dimulai', 'awal', '2022', ',', 'apakah', 'jenis', 'vaksin', 'yang', 'digunakan', 'bakal', 'mengikuti', 'strain', 'virus', 'terbaru', '?', 'Menjawab', 'pertanyaan', 'tersebut', ',', 'Ketua', 'Satgas', 'COVID', '-', '19', 'Ikatan', 'Dokter', 'Indonesia', '(', 'IDI', ')', 'Prof', 'Zubairi', 'Djoerban', 'kembali', 'menyinggung', 'riset', 'yang', 'sudah', 'berlangsung', 'terkait', 'efektivitas', 'vaksin', 'COVID', '-', '19', 'dosis', '1', 'dan', '2', '.', 'Ia', 'menyebut', 'berdasarkan', 'riset', 'sejauh', 'ini', ',', 'efektivitas', 'vaksin', 'COVID', '-', '19', 'Pfizer', 'dan', 'Moderna', 'terbukti', 'menurun', 'dalam', 'melawan', 'varian', 'Delta', '.', ' ']\n",
      "['Alert', '!', 'Kasus', 'Varian', 'Delta', 'COVID', '-', '19', 'di', 'DKI', 'Meningkat', ' ', 'Jakarta', '-', 'Data', 'terbaru', 'dari', 'Balitbangkes', 'Kemenkes', 'RI', 'per', '13', 'November', ',', 'menunjukkan', 'adanya', 'penambahan', 'varian', 'Delta', '.', 'Penambahan', 'tersebut', 'terjadi', 'di', 'Jawa', 'Barat', 'ada', '165', 'kasus', ',', 'DKI', 'Jakarta', '90', 'kasus', ',', 'dan', 'Sulawesi', 'Utara', '86', 'kasus', '.', 'Dalam', 'satu', 'bulan', 'terakhir', ',', 'Balitbangkes', 'menyebutkan', 'DKI', 'Jakarta', 'mengalami', 'peningkatan', 'kasus', 'varian', 'Delta', 'yang', 'signifikan', '.', 'Sementara', ',', 'pada', 'varian', 'baru', 'seperti', 'varian', 'Alpha', ',', 'varian', 'Delta', ',', 'hingga', 'Beta', 'terbanyak', 'di', 'Indonesia', 'berasal', 'dari', 'DKI', 'Jakarta', ',', 'dengan', 'total', '1.327', 'kasus', '.', ' ']\n",
      "['Corona', 'di', 'AS', 'Mendadak', 'Naik', 'Lagi', 'Usai', 'Serangan', 'Delta', 'Sempat', 'Mereda', ' ', 'Jakarta', '-', 'Kasus', 'COVID', '-', '19', 'kembali', 'naik', 'di', 'sejumlah', 'wilayah', 'Amerika', 'Serikat', '(', 'AS', ')', '.', 'Padahal', 'diketahui', ',', 'COVID', '-', '19', 'sempat', 'tercatat', 'stabil', 'pasca', 'serangan', 'varian', 'Delta', 'musim', 'panas', 'ini', '.', 'Ada', 'apa', '?', 'Hal', 'tersebut', 'disampaikan', 'oleh', 'kepala', 'penasihat', 'medis', 'Gedung', 'Putih', 'Dr.', 'Anthony', 'Fauci', ',', 'Senin', '(', '15', '/', '11', '/', '2021', ')', '.', 'Diketahui', ',', 'kasus', 'nasional', 'turun', '57', 'persen', 'minggu', 'lalu', 'dari', 'puncak', 'gelombang', 'varian', 'Delta', 'pada', 'musim', 'panas', '.', 'Namun', 'jumlah', 'pasien', 'COVID', '-', '19', 'di', 'area', 'Barat', 'Tengah', 'dan', 'Timur', 'laut', 'kini', 'naik', 'mendadak', '.', ' ']\n"
     ]
    }
   ],
   "source": [
    "path = \"C:/Users/bilva/Information Retrieval/berita\"\n",
    "\n",
    "nlp_tugas = Indonesian()\n",
    "stp_words_tugas = nlp_tugas.Defaults.stop_words\n",
    "corpus = []\n",
    "for file in os.listdir(path):\n",
    "    with open(os.path.join(path, file), 'r') as f:\n",
    "        clean_txt = re.sub(\"http\\S+\", '', f.read())\n",
    "        clean_txt = re.sub(\"[\\n\\n]\", ' ', clean_txt)\n",
    "        corpus.append(clean_txt)\n",
    "# 1. Tokenization\n",
    "for doc in corpus:\n",
    "    token_txt = [token.text for token in nlp_tugas(doc)]\n",
    "    print(token_txt)"
   ]
  },
  {
   "cell_type": "code",
   "execution_count": 89,
   "id": "c07d99df",
   "metadata": {
    "scrolled": false
   },
   "outputs": [
    {
     "name": "stdout",
     "output_type": "stream",
     "text": [
      "['Wilayah', 'Kamu', 'Sudah', \"'\", 'Bebas', \"'\", 'COVID', '-', '19', '?', 'Cek', '34', 'Kab', '/', 'Kota', 'Zona', 'Hijau', 'Terbaru', ' ', 'Jakarta', '-', 'Pemerintah', 'rencananya', 'menerapkan', 'Pemberlakuan', 'Pembatasan', 'Kegiatan', 'Masyarakat', '(', 'PPKM', ')', 'level', '3', 'terhitung', '24', 'Desember', '2021', '2', 'Januari', '2021', '.', 'Namun', ',', 'Kementerian', 'Kesehatan', 'RI', 'kebijakan', 'PPKM', 'level', '3', 'tahap', 'kajian', '.', 'Menurut', 'Direktur', 'Pencegahan', 'Pengendalian', 'Penyakit', 'Menular', 'Langsung', '(', 'P2PML', ')', 'Kemenkes', 'RI', 'dr', 'Siti', 'Nadia', 'Tarmizi', ',', 'PPKM', 'level', '3', 'diterapkan', 'COVID', '-', '19', 'signifikan', '.', 'Hal', 'dipicu', 'peningkatan', 'mobilitas', 'pelonggaran', 'protokol', 'kesehatan', '.', ' ']\n",
      "['Vaksin', 'COVID', '-', '19', 'Bakal', 'Rutin', 'Setiap', 'Tahun', '?', 'Tergantung', ',', 'Ini', 'Penjelasannya', ' ', 'Jakarta', '-', 'Pemberian', 'booster', 'dosis', 'ketiga', 'vaksin', 'COVID', '-', '19', 'Indonesia', 'direncanakan', 'Januari', '2022', '.', 'Lantas', 'adakah', 'vaksinasi', 'COVID', '-', '19', 'vaksinasi', 'influenza', '?', 'Ketua', 'Satgas', 'COVID', '-', '19', 'Ikatan', 'Dokter', 'Indonesia', '(', 'IDI', ')', 'Prof', 'Zubairi', 'Djoerban', 'kepastian', 'terkait', '.', 'Menurutnya', 'vaksin', 'COVID', '-', '19', ',', 'booster', 'vaksinasi', 'COVID', '-', '19', '.', ' ']\n",
      "['RI', 'Mulai', 'Suntikkan', 'Booster', '2022', ',', 'Masihkah', 'Ampuh', 'Lawan', 'Varian', 'Delta', 'Cs', '?', ' ', 'Jakarta', '-', 'Pakar', 'mengakui', 'vaksin', '-', 'vaksin', 'dosis', '1', '-', '2', 'mengalami', 'penurunan', 'efektivitas', 'varian', 'Corona', 'varian', 'Delta', '.', 'Mengingat', 'booster', 'dosis', 'ketiga', 'vaksin', 'COVID', '-', '19', 'Indonesia', '2022', ',', 'jenis', 'vaksin', 'mengikuti', 'strain', 'virus', 'terbaru', '?', 'Menjawab', ',', 'Ketua', 'Satgas', 'COVID', '-', '19', 'Ikatan', 'Dokter', 'Indonesia', '(', 'IDI', ')', 'Prof', 'Zubairi', 'Djoerban', 'menyinggung', 'riset', 'terkait', 'efektivitas', 'vaksin', 'COVID', '-', '19', 'dosis', '1', '2', '.', 'Ia', 'menyebut', 'berdasarkan', 'riset', ',', 'efektivitas', 'vaksin', 'COVID', '-', '19', 'Pfizer', 'Moderna', 'terbukti', 'menurun', 'melawan', 'varian', 'Delta', '.', ' ']\n",
      "['Alert', '!', 'Kasus', 'Varian', 'Delta', 'COVID', '-', '19', 'DKI', 'Meningkat', ' ', 'Jakarta', '-', 'Data', 'terbaru', 'Balitbangkes', 'Kemenkes', 'RI', '13', 'November', ',', 'penambahan', 'varian', 'Delta', '.', 'Penambahan', 'Jawa', 'Barat', '165', ',', 'DKI', 'Jakarta', '90', ',', 'Sulawesi', 'Utara', '86', '.', 'Dalam', ',', 'Balitbangkes', 'DKI', 'Jakarta', 'mengalami', 'peningkatan', 'varian', 'Delta', 'signifikan', '.', 'Sementara', ',', 'varian', 'varian', 'Alpha', ',', 'varian', 'Delta', ',', 'Beta', 'Indonesia', 'berasal', 'DKI', 'Jakarta', ',', 'total', '1.327', '.', ' ']\n",
      "['Corona', 'AS', 'Mendadak', 'Naik', 'Lagi', 'Usai', 'Serangan', 'Delta', 'Sempat', 'Mereda', ' ', 'Jakarta', '-', 'Kasus', 'COVID', '-', '19', 'wilayah', 'Amerika', 'Serikat', '(', 'AS', ')', '.', 'Padahal', ',', 'COVID', '-', '19', 'tercatat', 'stabil', 'pasca', 'serangan', 'varian', 'Delta', 'musim', 'panas', '.', 'Ada', '?', 'Hal', 'kepala', 'penasihat', 'medis', 'Gedung', 'Putih', 'Dr.', 'Anthony', 'Fauci', ',', 'Senin', '(', '15', '/', '11', '/', '2021', ')', '.', 'Diketahui', ',', 'nasional', 'turun', '57', 'persen', 'minggu', 'puncak', 'gelombang', 'varian', 'Delta', 'musim', 'panas', '.', 'Namun', 'pasien', 'COVID', '-', '19', 'area', 'Barat', 'Tengah', 'Timur', 'laut', 'mendadak', '.', ' ']\n"
     ]
    }
   ],
   "source": [
    "# 2. Stopwords Elimination\n",
    "for doc in corpus:\n",
    "    nlp_doc = nlp_tugas(doc)\n",
    "    token_doc = [token.text for token in nlp_doc]\n",
    "    token_stpwords_tugas = [w for w in token_doc if w not in stp_words_tugas]\n",
    "    print(token_stpwords_tugas)"
   ]
  },
  {
   "cell_type": "code",
   "execution_count": 92,
   "id": "2a0eaf81",
   "metadata": {
    "scrolled": true
   },
   "outputs": [
    {
     "name": "stdout",
     "output_type": "stream",
     "text": [
      "Uper Case:\n",
      "WILAYAH KAMU SUDAH 'BEBAS' COVID-19? CEK 34 KAB/KOTA ZONA HIJAU TERBARU  JAKARTA - PEMERINTAH RENCANANYA BAKAL MENERAPKAN PEMBERLAKUAN PEMBATASAN KEGIATAN MASYARAKAT (PPKM) LEVEL 3 TERHITUNG 24 DESEMBER 2021 HINGGA 2 JANUARI 2021. NAMUN, KEMENTERIAN KESEHATAN RI MEMASTIKAN KEBIJAKAN PPKM LEVEL 3 INI MASIH DALAM TAHAP KAJIAN. MENURUT DIREKTUR PENCEGAHAN DAN PENGENDALIAN PENYAKIT MENULAR LANGSUNG (P2PML) KEMENKES RI DR SITI NADIA TARMIZI, PPKM LEVEL 3 BAKAL DITERAPKAN JIKA KASUS COVID-19 NAIK SIGNIFIKAN. HAL INI UMUMNYA DIPICU DENGAN PENINGKATAN MOBILITAS DAN PELONGGARAN PROTOKOL KESEHATAN.  \n",
      "\n",
      "VAKSIN COVID-19 BAKAL RUTIN SETIAP TAHUN? TERGANTUNG, INI PENJELASANNYA  JAKARTA - PEMBERIAN BOOSTER ATAU DOSIS KETIGA VAKSIN COVID-19 DI INDONESIA DIRENCANAKAN BAKAL BERLANGSUNG JANUARI 2022. LANTAS ADAKAH KEMUNGKINAN VAKSINASI COVID-19 BAKAL HARUS DILAKUKAN SETIAP TAHUN SEPERTI VAKSINASI INFLUENZA? KETUA SATGAS COVID-19 IKATAN DOKTER INDONESIA (IDI) PROF ZUBAIRI DJOERBAN MENJELASKAN HINGGA KINI BELUM ADA KEPASTIAN TERKAIT HAL TERSEBUT. MENURUTNYA MASIH ADA KEMUNGKINAN VAKSIN COVID-19 HARUS DIBERIKAN SETIAP TAHUN, ADA JUGA KEMUNGKINAN CUKUP BOOSTER DIBERIKAN SEKALI KEMUDIAN VAKSINASI COVID-19 TIDAK DIPERLUKAN LAGI.  \n",
      "\n",
      "RI MULAI SUNTIKKAN BOOSTER DI 2022, MASIHKAH AMPUH LAWAN VARIAN DELTA CS?  JAKARTA - PAKAR MENGAKUI VAKSIN-VAKSIN YANG SUDAH DIGUNAKAN UNTUK DOSIS 1-2 MEMANG MENGALAMI PENURUNAN EFEKTIVITAS TERHADAP VARIAN BARU CORONA SEPERTI VARIAN DELTA. MENGINGAT BOOSTER ATAU DOSIS KETIGA VAKSIN COVID-19 DI INDONESIA DISEBUT BAKAL DIMULAI AWAL 2022, APAKAH JENIS VAKSIN YANG DIGUNAKAN BAKAL MENGIKUTI STRAIN VIRUS TERBARU? MENJAWAB PERTANYAAN TERSEBUT, KETUA SATGAS COVID-19 IKATAN DOKTER INDONESIA (IDI) PROF ZUBAIRI DJOERBAN KEMBALI MENYINGGUNG RISET YANG SUDAH BERLANGSUNG TERKAIT EFEKTIVITAS VAKSIN COVID-19 DOSIS 1 DAN 2. IA MENYEBUT BERDASARKAN RISET SEJAUH INI, EFEKTIVITAS VAKSIN COVID-19 PFIZER DAN MODERNA TERBUKTI MENURUN DALAM MELAWAN VARIAN DELTA.  \n",
      "\n",
      "ALERT! KASUS VARIAN DELTA COVID-19 DI DKI MENINGKAT  JAKARTA - DATA TERBARU DARI BALITBANGKES KEMENKES RI PER 13 NOVEMBER, MENUNJUKKAN ADANYA PENAMBAHAN VARIAN DELTA. PENAMBAHAN TERSEBUT TERJADI DI JAWA BARAT ADA 165 KASUS, DKI JAKARTA 90 KASUS, DAN SULAWESI UTARA 86 KASUS. DALAM SATU BULAN TERAKHIR, BALITBANGKES MENYEBUTKAN DKI JAKARTA MENGALAMI PENINGKATAN KASUS VARIAN DELTA YANG SIGNIFIKAN. SEMENTARA, PADA VARIAN BARU SEPERTI VARIAN ALPHA, VARIAN DELTA, HINGGA BETA TERBANYAK DI INDONESIA BERASAL DARI DKI JAKARTA, DENGAN TOTAL 1.327 KASUS .  \n",
      "\n",
      "CORONA DI AS MENDADAK NAIK LAGI USAI SERANGAN DELTA SEMPAT MEREDA  JAKARTA - KASUS COVID-19 KEMBALI NAIK DI SEJUMLAH WILAYAH AMERIKA SERIKAT (AS). PADAHAL DIKETAHUI, COVID-19 SEMPAT TERCATAT STABIL PASCA SERANGAN VARIAN DELTA MUSIM PANAS INI. ADA APA? HAL TERSEBUT DISAMPAIKAN OLEH KEPALA PENASIHAT MEDIS GEDUNG PUTIH DR. ANTHONY FAUCI, SENIN (15/11/2021). DIKETAHUI, KASUS NASIONAL TURUN 57 PERSEN MINGGU LALU DARI PUNCAK GELOMBANG VARIAN DELTA PADA MUSIM PANAS. NAMUN JUMLAH PASIEN COVID-19 DI AREA BARAT TENGAH DAN TIMUR LAUT KINI NAIK MENDADAK.  \n",
      "\n",
      "\n",
      "Lower Case:\n",
      "wilayah kamu sudah 'bebas' covid-19? cek 34 kab/kota zona hijau terbaru  jakarta - pemerintah rencananya bakal menerapkan pemberlakuan pembatasan kegiatan masyarakat (ppkm) level 3 terhitung 24 desember 2021 hingga 2 januari 2021. namun, kementerian kesehatan ri memastikan kebijakan ppkm level 3 ini masih dalam tahap kajian. menurut direktur pencegahan dan pengendalian penyakit menular langsung (p2pml) kemenkes ri dr siti nadia tarmizi, ppkm level 3 bakal diterapkan jika kasus covid-19 naik signifikan. hal ini umumnya dipicu dengan peningkatan mobilitas dan pelonggaran protokol kesehatan.  \n",
      "\n",
      "vaksin covid-19 bakal rutin setiap tahun? tergantung, ini penjelasannya  jakarta - pemberian booster atau dosis ketiga vaksin covid-19 di indonesia direncanakan bakal berlangsung januari 2022. lantas adakah kemungkinan vaksinasi covid-19 bakal harus dilakukan setiap tahun seperti vaksinasi influenza? ketua satgas covid-19 ikatan dokter indonesia (idi) prof zubairi djoerban menjelaskan hingga kini belum ada kepastian terkait hal tersebut. menurutnya masih ada kemungkinan vaksin covid-19 harus diberikan setiap tahun, ada juga kemungkinan cukup booster diberikan sekali kemudian vaksinasi covid-19 tidak diperlukan lagi.  \n",
      "\n",
      "ri mulai suntikkan booster di 2022, masihkah ampuh lawan varian delta cs?  jakarta - pakar mengakui vaksin-vaksin yang sudah digunakan untuk dosis 1-2 memang mengalami penurunan efektivitas terhadap varian baru corona seperti varian delta. mengingat booster atau dosis ketiga vaksin covid-19 di indonesia disebut bakal dimulai awal 2022, apakah jenis vaksin yang digunakan bakal mengikuti strain virus terbaru? menjawab pertanyaan tersebut, ketua satgas covid-19 ikatan dokter indonesia (idi) prof zubairi djoerban kembali menyinggung riset yang sudah berlangsung terkait efektivitas vaksin covid-19 dosis 1 dan 2. ia menyebut berdasarkan riset sejauh ini, efektivitas vaksin covid-19 pfizer dan moderna terbukti menurun dalam melawan varian delta.  \n",
      "\n",
      "alert! kasus varian delta covid-19 di dki meningkat  jakarta - data terbaru dari balitbangkes kemenkes ri per 13 november, menunjukkan adanya penambahan varian delta. penambahan tersebut terjadi di jawa barat ada 165 kasus, dki jakarta 90 kasus, dan sulawesi utara 86 kasus. dalam satu bulan terakhir, balitbangkes menyebutkan dki jakarta mengalami peningkatan kasus varian delta yang signifikan. sementara, pada varian baru seperti varian alpha, varian delta, hingga beta terbanyak di indonesia berasal dari dki jakarta, dengan total 1.327 kasus .  \n",
      "\n",
      "corona di as mendadak naik lagi usai serangan delta sempat mereda  jakarta - kasus covid-19 kembali naik di sejumlah wilayah amerika serikat (as). padahal diketahui, covid-19 sempat tercatat stabil pasca serangan varian delta musim panas ini. ada apa? hal tersebut disampaikan oleh kepala penasihat medis gedung putih dr. anthony fauci, senin (15/11/2021). diketahui, kasus nasional turun 57 persen minggu lalu dari puncak gelombang varian delta pada musim panas. namun jumlah pasien covid-19 di area barat tengah dan timur laut kini naik mendadak.  \n",
      "\n"
     ]
    }
   ],
   "source": [
    "# 3. Case-Foldings\n",
    "# 3.1. Upper Case\n",
    "print(\"Uper Case:\")\n",
    "for doc in corpus:\n",
    "    doc_upper = doc.upper()\n",
    "    print(f\"{doc_upper}\\n\")\n",
    "    \n",
    "# 3.2. Lower Case\n",
    "print(\"\\nLower Case:\")\n",
    "for doc in corpus:\n",
    "    doc_lower = doc.lower()\n",
    "    print(f\"{doc_lower}\\n\")"
   ]
  },
  {
   "cell_type": "code",
   "execution_count": 91,
   "id": "b4a42bf0",
   "metadata": {},
   "outputs": [
    {
     "name": "stdout",
     "output_type": "stream",
     "text": [
      "wilayah kamu sudah bebas covid-19 cek 34 kab kota zona hijau baru jakarta - perintah rencana bakal terap laku batas giat masyarakat ppkm level 3 hitung 24 desember 2021 hingga 2 januari 2021 namun menteri sehat ri pasti bijak ppkm level 3 ini masih dalam tahap kaji turut direktur cegah dan kendali sakit tular langsung p2pml kemenkes ri dr siti nadia tarmizi ppkm level 3 bakal terap jika kasus covid-19 naik signifikan hal ini umum picu dengan tingkat mobilitas dan longgar protokol sehat\n",
      "\n",
      "vaksin covid-19 bakal rutin tiap tahun gantung ini jelas jakarta - beri booster atau dosis tiga vaksin covid-19 di indonesia rencana bakal langsung januari 2022 lantas ada mungkin vaksinasi covid-19 bakal harus laku tiap tahun seperti vaksinasi influenza ketua satgas covid-19 ikat dokter indonesia idi prof zubairi djoerban jelas hingga kini belum ada pasti kait hal sebut turut masih ada mungkin vaksin covid-19 harus beri tiap tahun ada juga mungkin cukup booster beri sekali kemudian vaksinasi covid-19 tidak perlu lagi\n",
      "\n",
      "ri mulai suntik booster di 2022 masih ampuh lawan varian delta cs jakarta - pakar aku vaksin yang sudah guna untuk dosis 1-2 memang alami turun efektivitas hadap varian baru corona seperti varian delta ingat booster atau dosis tiga vaksin covid-19 di indonesia sebut bakal mulai awal 2022 apakah jenis vaksin yang guna bakal ikut strain virus baru jawab tanya sebut ketua satgas covid-19 ikat dokter indonesia idi prof zubairi djoerban kembali singgung riset yang sudah langsung kait efektivitas vaksin covid-19 dosis 1 dan 2 ia sebut dasar riset jauh ini efektivitas vaksin covid-19 pfizer dan moderna bukti turun dalam lawan varian delta\n",
      "\n",
      "alert kasus varian delta covid-19 di dki tingkat jakarta - data baru dari balitbangkes kemenkes ri per 13 november tunjuk ada tambah varian delta tambah sebut jadi di jawa barat ada 165 kasus dki jakarta 90 kasus dan sulawesi utara 86 kasus dalam satu bulan akhir balitbangkes sebut dki jakarta alami tingkat kasus varian delta yang signifikan sementara pada varian baru seperti varian alpha varian delta hingga beta banyak di indonesia asal dari dki jakarta dengan total 1 327 kasus\n",
      "\n",
      "corona di as dadak naik lagi usai serang delta sempat reda jakarta - kasus covid-19 kembali naik di jumlah wilayah amerika serikat as padahal tahu covid-19 sempat catat stabil pasca serang varian delta musim panas ini ada apa hal sebut sampai oleh kepala nasihat medis gedung putih dr anthony fauci senin 15 11 2021 tahu kasus nasional turun 57 persen minggu lalu dari puncak gelombang varian delta pada musim panas namun jumlah pasien covid-19 di area barat tengah dan timur laut kini naik dadak\n",
      "\n"
     ]
    }
   ],
   "source": [
    "# 4. Stemming\n",
    "stemmer_tugas = StemmerFactory().create_stemmer()\n",
    "for doc in corpus:\n",
    "    stem_tugas = stemmer_tugas.stem(doc.lower())\n",
    "    print(stem_tugas + \"\\n\")"
   ]
  }
 ],
 "metadata": {
  "kernelspec": {
   "display_name": "Python 3 (ipykernel)",
   "language": "python",
   "name": "python3"
  },
  "language_info": {
   "codemirror_mode": {
    "name": "ipython",
    "version": 3
   },
   "file_extension": ".py",
   "mimetype": "text/x-python",
   "name": "python",
   "nbconvert_exporter": "python",
   "pygments_lexer": "ipython3",
   "version": "3.9.12"
  }
 },
 "nbformat": 4,
 "nbformat_minor": 5
}
