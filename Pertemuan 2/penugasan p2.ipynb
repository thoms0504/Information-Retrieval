{
 "cells": [
  {
   "cell_type": "code",
   "execution_count": 2,
   "id": "a2e810de",
   "metadata": {},
   "outputs": [
    {
     "name": "stdout",
     "output_type": "stream",
     "text": [
      "Mobilitas warga bakal diperketat melalui penerapan PPKM level 3 se-Indoensa di masa libur Natal dan tahun baru (Nataru). Rencana kebijakakn itu dikritik oleh Epidemiolog dariGriffich Universitu Dicky Budiman.\n",
      "Dicky menyebut pembatasan mobilitas memank akan memiliiki dampak dalam mencegah penularan COVID-19. Tapi, kata dia, dampaknya signifikan atau tidak akan bergantung pada konsistensi yang mendasar yakni testing, racing, treatment (ST) hingga vaksinasi COVID-19\n"
     ]
    }
   ],
   "source": [
    "text = \"Mobilitas warga bakal diperketat melalui penerapan PPKM level 3 se-Indoensa di masa libur Natal dan tahun baru (Nataru). Rencana kebijakakn itu dikritik oleh Epidemiolog dariGriffich Universitu Dicky Budiman.\\nDicky menyebut pembatasan mobilitas memank akan memiliiki dampak dalam mencegah penularan COVID-19. Tapi, kata dia, dampaknya signifikan atau tidak akan bergantung pada konsistensi yang mendasar yakni testing, racing, treatment (ST) hingga vaksinasi COVID-19\"\n",
    "print(text)"
   ]
  },
  {
   "cell_type": "code",
   "execution_count": 3,
   "id": "fef170fa",
   "metadata": {},
   "outputs": [
    {
     "name": "stdout",
     "output_type": "stream",
     "text": [
      "Requirement already satisfied: spacy in c:\\users\\asus\\anaconda3\\envs\\ir_env\\lib\\site-packages (3.4.1)\n",
      "Requirement already satisfied: murmurhash<1.1.0,>=0.28.0 in c:\\users\\asus\\anaconda3\\envs\\ir_env\\lib\\site-packages (from spacy) (1.0.8)\n",
      "Requirement already satisfied: pathy>=0.3.5 in c:\\users\\asus\\anaconda3\\envs\\ir_env\\lib\\site-packages (from spacy) (0.6.2)\n",
      "Requirement already satisfied: tqdm<5.0.0,>=4.38.0 in c:\\users\\asus\\anaconda3\\envs\\ir_env\\lib\\site-packages (from spacy) (4.64.0)\n",
      "Requirement already satisfied: srsly<3.0.0,>=2.4.3 in c:\\users\\asus\\anaconda3\\envs\\ir_env\\lib\\site-packages (from spacy) (2.4.4)\n",
      "Requirement already satisfied: jinja2 in c:\\users\\asus\\anaconda3\\envs\\ir_env\\lib\\site-packages (from spacy) (3.0.3)\n",
      "Requirement already satisfied: spacy-loggers<2.0.0,>=1.0.0 in c:\\users\\asus\\anaconda3\\envs\\ir_env\\lib\\site-packages (from spacy) (1.0.3)\n",
      "Requirement already satisfied: pydantic!=1.8,!=1.8.1,<1.10.0,>=1.7.4 in c:\\users\\asus\\anaconda3\\envs\\ir_env\\lib\\site-packages (from spacy) (1.9.2)\n",
      "Requirement already satisfied: langcodes<4.0.0,>=3.2.0 in c:\\users\\asus\\anaconda3\\envs\\ir_env\\lib\\site-packages (from spacy) (3.3.0)\n",
      "Requirement already satisfied: packaging>=20.0 in c:\\users\\asus\\anaconda3\\envs\\ir_env\\lib\\site-packages (from spacy) (21.3)\n",
      "Requirement already satisfied: preshed<3.1.0,>=3.0.2 in c:\\users\\asus\\anaconda3\\envs\\ir_env\\lib\\site-packages (from spacy) (3.0.7)\n",
      "Requirement already satisfied: spacy-legacy<3.1.0,>=3.0.9 in c:\\users\\asus\\anaconda3\\envs\\ir_env\\lib\\site-packages (from spacy) (3.0.10)\n",
      "Requirement already satisfied: thinc<8.2.0,>=8.1.0 in c:\\users\\asus\\anaconda3\\envs\\ir_env\\lib\\site-packages (from spacy) (8.1.0)\n",
      "Requirement already satisfied: requests<3.0.0,>=2.13.0 in c:\\users\\asus\\anaconda3\\envs\\ir_env\\lib\\site-packages (from spacy) (2.28.1)\n",
      "Requirement already satisfied: setuptools in c:\\users\\asus\\anaconda3\\envs\\ir_env\\lib\\site-packages (from spacy) (63.4.1)\n",
      "Requirement already satisfied: numpy>=1.15.0 in c:\\users\\asus\\anaconda3\\envs\\ir_env\\lib\\site-packages (from spacy) (1.23.2)\n",
      "Requirement already satisfied: cymem<2.1.0,>=2.0.2 in c:\\users\\asus\\anaconda3\\envs\\ir_env\\lib\\site-packages (from spacy) (2.0.6)\n",
      "Requirement already satisfied: wasabi<1.1.0,>=0.9.1 in c:\\users\\asus\\anaconda3\\envs\\ir_env\\lib\\site-packages (from spacy) (0.10.1)\n",
      "Requirement already satisfied: typer<0.5.0,>=0.3.0 in c:\\users\\asus\\anaconda3\\envs\\ir_env\\lib\\site-packages (from spacy) (0.4.2)\n",
      "Requirement already satisfied: catalogue<2.1.0,>=2.0.6 in c:\\users\\asus\\anaconda3\\envs\\ir_env\\lib\\site-packages (from spacy) (2.0.8)\n",
      "Requirement already satisfied: pyparsing!=3.0.5,>=2.0.2 in c:\\users\\asus\\anaconda3\\envs\\ir_env\\lib\\site-packages (from packaging>=20.0->spacy) (3.0.4)\n",
      "Requirement already satisfied: smart-open<6.0.0,>=5.2.1 in c:\\users\\asus\\anaconda3\\envs\\ir_env\\lib\\site-packages (from pathy>=0.3.5->spacy) (5.2.1)\n",
      "Requirement already satisfied: typing-extensions>=3.7.4.3 in c:\\users\\asus\\anaconda3\\envs\\ir_env\\lib\\site-packages (from pydantic!=1.8,!=1.8.1,<1.10.0,>=1.7.4->spacy) (4.3.0)\n",
      "Requirement already satisfied: urllib3<1.27,>=1.21.1 in c:\\users\\asus\\anaconda3\\envs\\ir_env\\lib\\site-packages (from requests<3.0.0,>=2.13.0->spacy) (1.26.11)\n",
      "Requirement already satisfied: idna<4,>=2.5 in c:\\users\\asus\\anaconda3\\envs\\ir_env\\lib\\site-packages (from requests<3.0.0,>=2.13.0->spacy) (3.3)\n",
      "Requirement already satisfied: charset-normalizer<3,>=2 in c:\\users\\asus\\anaconda3\\envs\\ir_env\\lib\\site-packages (from requests<3.0.0,>=2.13.0->spacy) (2.0.4)\n",
      "Requirement already satisfied: certifi>=2017.4.17 in c:\\users\\asus\\anaconda3\\envs\\ir_env\\lib\\site-packages (from requests<3.0.0,>=2.13.0->spacy) (2022.6.15)\n",
      "Requirement already satisfied: blis<0.8.0,>=0.7.8 in c:\\users\\asus\\anaconda3\\envs\\ir_env\\lib\\site-packages (from thinc<8.2.0,>=8.1.0->spacy) (0.7.8)\n",
      "Requirement already satisfied: colorama in c:\\users\\asus\\anaconda3\\envs\\ir_env\\lib\\site-packages (from tqdm<5.0.0,>=4.38.0->spacy) (0.4.5)\n",
      "Requirement already satisfied: click<9.0.0,>=7.1.1 in c:\\users\\asus\\anaconda3\\envs\\ir_env\\lib\\site-packages (from typer<0.5.0,>=0.3.0->spacy) (8.1.3)\n",
      "Requirement already satisfied: MarkupSafe>=2.0 in c:\\users\\asus\\anaconda3\\envs\\ir_env\\lib\\site-packages (from jinja2->spacy) (2.1.1)\n",
      "Requirement already satisfied: sastrawi in c:\\users\\asus\\anaconda3\\envs\\ir_env\\lib\\site-packages (1.0.1)\n"
     ]
    }
   ],
   "source": [
    "!pip install spacy\n",
    "!pip install sastrawi"
   ]
  },
  {
   "cell_type": "code",
   "execution_count": 4,
   "id": "1579f11c",
   "metadata": {},
   "outputs": [],
   "source": [
    "def paragraph_parsing(text):\n",
    "    sep_par = text.split(\"\\n\")\n",
    "    return sep_par"
   ]
  },
  {
   "cell_type": "code",
   "execution_count": 5,
   "id": "a9a92a93",
   "metadata": {},
   "outputs": [
    {
     "name": "stdout",
     "output_type": "stream",
     "text": [
      "List paragraph:\n",
      "\n",
      "p1: Mobilitas warga bakal diperketat melalui penerapan PPKM level 3 se-Indoensa di masa libur Natal dan tahun baru (Nataru). Rencana kebijakakn itu dikritik oleh Epidemiolog dariGriffich Universitu Dicky Budiman.\n",
      "p2: Dicky menyebut pembatasan mobilitas memank akan memiliiki dampak dalam mencegah penularan COVID-19. Tapi, kata dia, dampaknya signifikan atau tidak akan bergantung pada konsistensi yang mendasar yakni testing, racing, treatment (ST) hingga vaksinasi COVID-19\n"
     ]
    }
   ],
   "source": [
    "corpus = [text]\n",
    "\n",
    "for d in corpus:\n",
    "    sep_par = paragraph_parsing(d)\n",
    "#     print(f\"p1: {sep_par[d]}\")\n",
    "\n",
    "print(\"List paragraph:\\n\")\n",
    "print(f\"p1: {sep_par[0]}\")\n",
    "print(f\"p2: {sep_par[1]}\")\n",
    " \n"
   ]
  },
  {
   "cell_type": "code",
   "execution_count": 7,
   "id": "b516c174",
   "metadata": {},
   "outputs": [
    {
     "name": "stdout",
     "output_type": "stream",
     "text": [
      "Mobilitas warga bakal diperketat melalui penerapan PPKM level 3 se-Indoensa di masa libur Natal dan tahun baru (Nataru). Rencana kebijakakn itu dikritik oleh Epidemiolog dariGriffich Universitu Dicky Budiman.\n"
     ]
    }
   ],
   "source": [
    "par1 = sep_par[0]\n",
    "par2 = sep_par[1]\n",
    "\n",
    "def sentence_parsing(par):\n",
    "    sep_sen = par.split(\".\")\n",
    "    return sep_sen\n",
    "print(par1)"
   ]
  },
  {
   "cell_type": "code",
   "execution_count": 8,
   "id": "588f5b13",
   "metadata": {},
   "outputs": [
    {
     "name": "stdout",
     "output_type": "stream",
     "text": [
      "List sentence:\n",
      "\n"
     ]
    },
    {
     "ename": "TypeError",
     "evalue": "list indices must be integers or slices, not str",
     "output_type": "error",
     "traceback": [
      "\u001b[1;31m---------------------------------------------------------------------------\u001b[0m",
      "\u001b[1;31mTypeError\u001b[0m                                 Traceback (most recent call last)",
      "Input \u001b[1;32mIn [8]\u001b[0m, in \u001b[0;36m<cell line: 3>\u001b[1;34m()\u001b[0m\n\u001b[0;32m      3\u001b[0m \u001b[38;5;28;01mfor\u001b[39;00m d \u001b[38;5;129;01min\u001b[39;00m corps_p1:\n\u001b[0;32m      4\u001b[0m     sep_sen \u001b[38;5;241m=\u001b[39m sentence_parsing(d)\n\u001b[1;32m----> 5\u001b[0m     s1[d] \u001b[38;5;241m=\u001b[39m \u001b[38;5;28mprint\u001b[39m(\u001b[38;5;124mf\u001b[39m\u001b[38;5;124m\"\u001b[39m\u001b[38;5;124mp: \u001b[39m\u001b[38;5;132;01m{\u001b[39;00msep_par[d]\u001b[38;5;132;01m}\u001b[39;00m\u001b[38;5;124m\"\u001b[39m)\n",
      "\u001b[1;31mTypeError\u001b[0m: list indices must be integers or slices, not str"
     ]
    }
   ],
   "source": [
    "corps_p1 = [par1]\n",
    "print(\"List sentence:\\n\")\n",
    "for d in corps_p1:\n",
    "    sep_sen = sentence_parsing(d)\n",
    "    s1[d] = print(f\"p: {sep_par[d]}\")\n",
    "\n",
    "# print(f\"s1: {sep_sen[0]}\")\n",
    "# print(f\"s2: {sep_sen[1]}\")"
   ]
  },
  {
   "cell_type": "code",
   "execution_count": 12,
   "id": "71f134ca",
   "metadata": {},
   "outputs": [
    {
     "data": {
      "text/plain": [
       "1"
      ]
     },
     "execution_count": 12,
     "metadata": {},
     "output_type": "execute_result"
    }
   ],
   "source": [
    "len(corps_p1)"
   ]
  },
  {
   "cell_type": "code",
   "execution_count": 11,
   "id": "165f8ed4",
   "metadata": {},
   "outputs": [
    {
     "data": {
      "text/plain": [
       "{'list_0': [], 'list_1': [], 'list_2': [], 'list_3': [], 'list_4': []}"
      ]
     },
     "execution_count": 11,
     "metadata": {},
     "output_type": "execute_result"
    }
   ],
   "source": [
    "my_dictionary = {}\n",
    "for i in range(5):\n",
    "    my_dictionary[f\"list_{i}\"] = []\n",
    "\n",
    "my_dictionary"
   ]
  },
  {
   "cell_type": "code",
   "execution_count": 35,
   "id": "f172dd1e",
   "metadata": {},
   "outputs": [
    {
     "name": "stdout",
     "output_type": "stream",
     "text": [
      "List sentence:\n",
      "\n",
      "s1: Dicky menyebut pembatasan mobilitas memank akan memiliiki dampak dalam mencegah penularan COVID-19\n",
      "s2:  Tapi, kata dia, dampaknya signifikan atau tidak akan bergantung pada konsistensi yang mendasar yakni testing, racing, treatment (ST) hingga vaksinasi COVID-19\n"
     ]
    }
   ],
   "source": [
    "corps_p2 = [par2]\n",
    "for d in corps_p2:\n",
    "    sep_sen = sentence_parsing(d)\n",
    "#     print(f\"p1: {sep_par[d]}\")\n",
    "\n",
    "print(\"List sentence:\\n\")\n",
    "print(f\"s1: {sep_sen[0]}\")\n",
    "print(f\"s2: {sep_sen[1]}\")"
   ]
  },
  {
   "cell_type": "code",
   "execution_count": null,
   "id": "5c2341fa",
   "metadata": {},
   "outputs": [],
   "source": [
    "#CASE_FOLDING\n",
    "## Paragraph 2\n",
    "\n",
    "text21 = \"Dicky menyebut pembatasan mobilitas memank akan memiliiki dampak dalam mencegah penularan COVID-19\"\n",
    "\n",
    "\n"
   ]
  }
 ],
 "metadata": {
  "kernelspec": {
   "display_name": "Python 3 (ipykernel)",
   "language": "python",
   "name": "python3"
  },
  "language_info": {
   "codemirror_mode": {
    "name": "ipython",
    "version": 3
   },
   "file_extension": ".py",
   "mimetype": "text/x-python",
   "name": "python",
   "nbconvert_exporter": "python",
   "pygments_lexer": "ipython3",
   "version": "3.9.12"
  }
 },
 "nbformat": 4,
 "nbformat_minor": 5
}
