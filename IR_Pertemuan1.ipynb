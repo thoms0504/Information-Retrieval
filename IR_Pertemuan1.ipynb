{
 "cells": [
  {
   "cell_type": "code",
   "execution_count": 1,
   "id": "d1e661b6",
   "metadata": {},
   "outputs": [],
   "source": [
    "import os, re"
   ]
  },
  {
   "cell_type": "code",
   "execution_count": 2,
   "id": "bde44c81",
   "metadata": {},
   "outputs": [],
   "source": [
    "path = \"C:/Users/asus/bahan python/berita\"\n",
    "\n",
    "def read_file(folder_path):\n",
    "    file_path = []\n",
    "    for file in os.listdir(folder_path):\n",
    "        if os.path.isfile(os.path.join(folder_path, file)):\n",
    "            if file.endswith(\".txt\"):\n",
    "                file_path.append(file)\n",
    "    return file_path"
   ]
  },
  {
   "cell_type": "code",
   "execution_count": 3,
   "id": "865e3413",
   "metadata": {},
   "outputs": [
    {
     "data": {
      "text/plain": [
       "['berita1.txt', 'berita2.txt', 'berita3.txt', 'berita4.txt', 'berita5.txt']"
      ]
     },
     "execution_count": 3,
     "metadata": {},
     "output_type": "execute_result"
    }
   ],
   "source": [
    "read_file(path)"
   ]
  },
  {
   "cell_type": "code",
   "execution_count": 4,
   "id": "cc871f42",
   "metadata": {},
   "outputs": [],
   "source": [
    "def querying_doc(folder_path, query):\n",
    "    texts = []\n",
    "    for file in read_file(folder_path):\n",
    "        with open(os.path.join(folder_path, file), 'r') as f:\n",
    "            texts.append(f.read())\n",
    "    for text in texts:\n",
    "        if re.search(query, text):\n",
    "            print(text)"
   ]
  },
  {
   "cell_type": "code",
   "execution_count": 5,
   "id": "b235ac82",
   "metadata": {},
   "outputs": [],
   "source": [
    "def querying_doc_V2(folder_path, query):\n",
    "    for file in read_file(folder_path):\n",
    "        with open(os.path.join(folder_path, file), 'r') as f:\n",
    "            if re.search(query, f.read()):\n",
    "                print(f\"{file}\")"
   ]
  },
  {
   "cell_type": "code",
   "execution_count": 6,
   "id": "18701dd7",
   "metadata": {},
   "outputs": [
    {
     "name": "stdout",
     "output_type": "stream",
     "text": [
      "Masukan query: corona\n",
      "Corona di AS Mendadak Naik Lagi Usai Serangan Delta Sempat Mereda\n",
      "\n",
      "Jakarta - Kasus COVID-19 kembali naik di sejumlah wilayah Amerika Serikat (AS). Padahal diketahui, COVID-19 sempat tercatat stabil pasca serangan varian Delta musim panas ini. Ada apa?\n",
      "Hal tersebut disampaikan oleh kepala penasihat medis Gedung Putih Dr. Anthony Fauci, Senin (15/11/2021). Diketahui, kasus nasional turun 57 persen minggu lalu dari puncak gelombang varian Delta pada musim panas. Namun jumlah pasien COVID-19 di area Barat Tengah dan Timur laut kini naik mendadak.\n",
      "\n",
      "https://health.detik.com/berita-detikhealth/d-5813949/corona-di-as-mendadak-naik-lagi-usai-serangan-delta-sempat-mereda\n",
      "\n",
      "Query berada pada file:\n",
      "berita5.txt\n"
     ]
    }
   ],
   "source": [
    "query = str(input(\"Masukan query: \"))\n",
    "querying_doc(path, query)\n",
    "\n",
    "print(\"\\nQuery berada pada file:\")\n",
    "querying_doc_V2(path, query)"
   ]
  },
  {
   "cell_type": "code",
   "execution_count": null,
   "id": "2c50c96e",
   "metadata": {},
   "outputs": [],
   "source": []
  }
 ],
 "metadata": {
  "kernelspec": {
   "display_name": "Python 3 (ipykernel)",
   "language": "python",
   "name": "python3"
  },
  "language_info": {
   "codemirror_mode": {
    "name": "ipython",
    "version": 3
   },
   "file_extension": ".py",
   "mimetype": "text/x-python",
   "name": "python",
   "nbconvert_exporter": "python",
   "pygments_lexer": "ipython3",
   "version": "3.9.12"
  }
 },
 "nbformat": 4,
 "nbformat_minor": 5
}
