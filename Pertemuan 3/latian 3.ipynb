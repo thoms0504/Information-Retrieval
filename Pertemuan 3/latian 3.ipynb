{
 "cells": [
  {
   "cell_type": "code",
   "execution_count": 1,
   "id": "12c81ce7",
   "metadata": {},
   "outputs": [],
   "source": [
    "doc1_term = [\"pengembangan\", \"sistem\", \"informasi\",  \n",
    "\"penjadwalan\"] \n",
    "doc2_term = [\"pengembangan\", \"model\", \"analisis\", \"sentimen\",  \"berita\"] \n",
    "doc3_term = [\"analisis\", \"sistem\", \"input\", \"output\"] \n",
    "\n",
    "corpus_term = [doc1_term, doc2_term, doc3_term]\n"
   ]
  },
  {
   "cell_type": "code",
   "execution_count": 2,
   "id": "67634967",
   "metadata": {},
   "outputs": [
    {
     "name": "stdout",
     "output_type": "stream",
     "text": [
      "Requirement already satisfied: sastrawi in c:\\users\\asus\\anaconda3\\envs\\ir_env\\lib\\site-packages (1.0.1)\n"
     ]
    }
   ],
   "source": [
    "!pip install sastrawi"
   ]
  },
  {
   "cell_type": "code",
   "execution_count": 3,
   "id": "9d3ac484",
   "metadata": {},
   "outputs": [],
   "source": [
    "from Sastrawi.Stemmer.StemmerFactory import StemmerFactory\n",
    "def stemming(text):\n",
    "    # create stemmer\n",
    "    factory = StemmerFactory()\n",
    "    stemmer = factory.create_stemmer()\n",
    "    # stemming process\n",
    "    output   = stemmer.stem(text)\n",
    "    return output\n",
    "\n",
    "    \n",
    "    "
   ]
  },
  {
   "cell_type": "markdown",
   "id": "3b3b4bd5",
   "metadata": {},
   "source": [
    "## INVERTED INDEX"
   ]
  },
  {
   "cell_type": "code",
   "execution_count": 11,
   "id": "c8785c12",
   "metadata": {},
   "outputs": [
    {
     "name": "stdout",
     "output_type": "stream",
     "text": [
      "{'kembang': [1, 2], 'sistem': [1, 3], 'informasi': [1], 'jadwal': [1], 'model': [2], 'analisis': [2, 3], 'sentimen': [2], 'berita': [2], 'input': [3], 'output': [3]}\n"
     ]
    }
   ],
   "source": [
    "#INVERTED INDEX\n",
    "\n",
    "inverted_index = {} \n",
    "  \n",
    "for i in range(len(corpus_term)): \n",
    "    for item in corpus_term[i]: \n",
    "        item = stemming(item) \n",
    "        if item not in inverted_index: \n",
    "            inverted_index[item] = [] \n",
    "        if (item in inverted_index) and ((i+1) not in inverted_index[item]): \n",
    "            inverted_index[item].append(i+1) \n",
    "print(inverted_index) \n"
   ]
  },
  {
   "cell_type": "markdown",
   "id": "effffe04",
   "metadata": {},
   "source": [
    "## BOOLEAN RETRIEVAL"
   ]
  },
  {
   "cell_type": "code",
   "execution_count": 5,
   "id": "651b0996",
   "metadata": {},
   "outputs": [],
   "source": [
    "import math\n",
    "class BooleanModel():\n",
    "\n",
    "        @staticmethod\n",
    "        def and_operation(left_operand, right_operand):\n",
    "            # perform 'merge'\n",
    "            result = [] # results list to be returned\n",
    "            l_index = 0 # current index in left_operand\n",
    "            r_index = 0 # current index in right_operand\n",
    "            l_skip = int(math.sqrt(len(left_operand)))\n",
    "            # skip pointer distance for l_index\n",
    "            r_skip = int(math.sqrt(len(right_operand)))\n",
    "            # skip pointer distance for r_index\n",
    "\n",
    "            while (l_index < len(left_operand) and r_index < len(right_operand)):\n",
    "                l_item = left_operand[l_index]\n",
    "                r_item = right_operand[r_index]\n",
    "\n",
    "                # case 1: if match\n",
    "                if (l_item == r_item):\n",
    "                    result.append(l_item) # add to results\n",
    "                    l_index += 1 # advance left index\n",
    "                    r_index += 1 # advance right index\n",
    "\n",
    "                # case 2: if left item is more than right item\n",
    "                elif (l_item > r_item):\n",
    "                    # if r_index can be skipped (if new r_index is still within range and resulting item is <= left item)\n",
    "                    if (r_index + r_skip < len(right_operand)) and right_operand[r_index + r_skip] <= l_item:\n",
    "                        r_index += r_skip\n",
    "                    # else advance r_index by 1\n",
    "                    else:\n",
    "                        r_index += 1\n",
    "                \n",
    "                # case 3: if left item is less than right item\n",
    "                else:\n",
    "                    # if l_index can be skipped (if new l_index is still within range and resulting item is <= right item)\n",
    "                    if (l_index + l_skip < len(left_operand)) and left_operand[l_index + l_skip] <= r_item:\n",
    "                        l_index += l_skip\n",
    "                    # else advance l_index by 1\n",
    "                    else:\n",
    "                        l_index += 1\n",
    "            return result\n",
    "\n",
    "        @staticmethod\n",
    "        def or_operation(left_operand, right_operand):\n",
    "            result = [] # union of left and right operand\n",
    "            l_index = 0 # current index in left_operand\n",
    "            r_index = 0 # current index in right_operand\n",
    "            # while lists have not yet been covered\n",
    "            while (l_index < len(left_operand) or r_index < len(right_operand)):\n",
    "                # if both list are not yet exhausted\n",
    "                if (l_index < len(left_operand) and r_index < len(right_operand)):\n",
    "                    l_item = left_operand[l_index] # current item in left_operand\n",
    "                    r_item = right_operand[r_index] # current item in right_operand\n",
    "                    \n",
    "                    # case 1: if items are equal, add either one to result and advance both pointers\n",
    "                    if (l_item == r_item):\n",
    "                        result.append(l_item)\n",
    "                        l_index += 1\n",
    "                        r_index += 1\n",
    "\n",
    "                    # case 2: l_item greater than r_item, add r_item and advance r_index\n",
    "                    elif (l_item > r_item):\n",
    "                        result.append(r_item)\n",
    "                        r_index += 1\n",
    "\n",
    "                    # case 3: l_item lower than r_item, add l_item and advance l_index\n",
    "                    else:\n",
    "                        result.append(l_item)\n",
    "                        l_index += 1\n",
    "\n",
    "                    # if left_operand list is exhausted, append r_item and advance r_index\n",
    "                elif (l_index >= len(left_operand)):\n",
    "                    r_item = right_operand[r_index]\n",
    "                    result.append(r_item)\n",
    "                    r_index += 1\n",
    "                # else if right_operand list is exhausted, append l_item and advance l_index\n",
    "                else:\n",
    "                    l_item = left_operand[l_index]\n",
    "                    result.append(l_item)\n",
    "                    l_index += 1\n",
    "            return result\n",
    "\n",
    "        \n",
    "        @staticmethod\n",
    "        def not_operation(right_operand, indexed_docIDs):\n",
    "            # complement of an empty list is list of all indexed docIDs\n",
    "            if (not right_operand):\n",
    "                return indexed_docIDs\n",
    "            result = []\n",
    "            r_index = 0 # index for right operand\n",
    "            for item in indexed_docIDs:\n",
    "                # if item do not match that in right_operand, it belongs to compliment\n",
    "                if (item != right_operand[r_index]):\n",
    "                    result.append(item)\n",
    "                # else if item matches and r_index still can progress, advance it by 1\n",
    "                elif (r_index + 1 < len(right_operand)):\n",
    "                    r_index += 1\n",
    "            \n",
    "\n"
   ]
  },
  {
   "cell_type": "markdown",
   "id": "52844e4f",
   "metadata": {},
   "source": [
    "## 3B"
   ]
  },
  {
   "cell_type": "code",
   "execution_count": 12,
   "id": "9f1e0d9e",
   "metadata": {},
   "outputs": [],
   "source": [
    "# fungsi parse query\n",
    "def parse_query(infix_tokens):\n",
    "    \"\"\" Parse Query\n",
    "    Parsing done using Shunting Yard Algorithm \n",
    "    \"\"\"\n",
    "    precedence = {}\n",
    "    precedence['NOT'] = 3\n",
    "    precedence['AND'] = 2\n",
    "    precedence['OR'] = 1\n",
    "    precedence['('] = 0\n",
    "    precedence[')'] = 0\n",
    "    \n",
    "    output = []\n",
    "    operator_stack = []\n",
    "    \n",
    "    for token in infix_tokens:\n",
    "        if (token == '('):\n",
    "            operator_stack.append(token)\n",
    "        # if right bracket, pop all operators from operator stack onto output until we hit left bracket\n",
    "        elif (token == ')'):\n",
    "            operator = operator_stack.pop()\n",
    "            while operator != '(':\n",
    "                output.append(operator)\n",
    "        # if operator, pop operators from operator stack to queue if they are of higher precedence\n",
    "        elif (token in precedence):\n",
    "            # if operator stack is not empty\n",
    "            if (operator_stack):\n",
    "                current_operator = operator_stack[-1]\n",
    "                while (operator_stack and precedence[current_operator] > precedence[token]):\n",
    "                    output.append(operator_stack.pop())\n",
    "                    if (operator_stack):\n",
    "                        current_operator = operator_stack[-1]\n",
    "            operator_stack.append(token) # add token to stack\n",
    "        else:\n",
    "            output.append(token.lower())\n",
    "    # while there are still operators on the stack, pop them into the queue\n",
    "    while (operator_stack):\n",
    "        output.append(operator_stack.pop())\n",
    "    return output"
   ]
  },
  {
   "cell_type": "code",
   "execution_count": 14,
   "id": "0806a00f",
   "metadata": {},
   "outputs": [],
   "source": [
    "import collections\n",
    "def process_query(query, n_docs, inverted_index):\n",
    "    # prepare query list\n",
    "    query = query.replace('(', '( ')\n",
    "    query = query.replace(')', ' )')\n",
    "    query = query.split(' ')\n",
    "    print(query)\n",
    "    \n",
    "    indexed_docIDs = list(range(1, n_docs + 1))\n",
    "    results_stack = []\n",
    "    postfix_queue = collections.deque(parse_query(query)) # get query in postfix notation as a queue\n",
    "\n",
    "    while postfix_queue:\n",
    "        token = postfix_queue.popleft()\n",
    "        result = [] # the evaluated result at each stage\n",
    "        # if operand, add postings list for term to results stack\n",
    "        if (token != 'AND' and token != 'OR' and token != 'NOT'):\n",
    "            token = stemming(token) # stem the token\n",
    "            # default empty list if not in dictionary\n",
    "            if (token in inverted_index):\n",
    "                result = inverted_index[token]\n",
    "        elif (token == 'AND'):\n",
    "            right_operand = results_stack.pop()\n",
    "            left_operand = results_stack.pop()\n",
    "            result = BooleanModel.and_operation(left_operand, right_operand) # evaluate AND\n",
    "        elif (token == 'OR'):\n",
    "            right_operand = results_stack.pop()\n",
    "            left_operand = results_stack.pop()\n",
    "            result = BooleanModel.or_operation(left_operand, right_operand) # evaluate OR\n",
    "        elif (token == 'NOT'):\n",
    "            right_operand = results_stack.pop()\n",
    "            result = BooleanModel.not_operation(right_operand, indexed_docIDs) # evaluate NOT\n",
    "        results_stack.append(result) \n",
    "        \n",
    "    # NOTE: at this point results_stack should only have one item and it is the final result\n",
    "    if len(results_stack) != 1: \n",
    "        print(\"ERROR: Invalid Query. Please check query syntax.\") # check for errors\n",
    "        return None\n",
    "\n",
    "    return results_stack.pop()"
   ]
  },
  {
   "cell_type": "markdown",
   "id": "447d5232",
   "metadata": {},
   "source": [
    "# PENUGASAN"
   ]
  },
  {
   "cell_type": "code",
   "execution_count": null,
   "id": "700f0d4b",
   "metadata": {},
   "outputs": [],
   "source": []
  }
 ],
 "metadata": {
  "kernelspec": {
   "display_name": "Python 3 (ipykernel)",
   "language": "python",
   "name": "python3"
  },
  "language_info": {
   "codemirror_mode": {
    "name": "ipython",
    "version": 3
   },
   "file_extension": ".py",
   "mimetype": "text/x-python",
   "name": "python",
   "nbconvert_exporter": "python",
   "pygments_lexer": "ipython3",
   "version": "3.9.12"
  }
 },
 "nbformat": 4,
 "nbformat_minor": 5
}
